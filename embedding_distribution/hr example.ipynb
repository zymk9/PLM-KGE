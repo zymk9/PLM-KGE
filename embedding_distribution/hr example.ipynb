{
 "cells": [
  {
   "cell_type": "markdown",
   "id": "782314f3",
   "metadata": {},
   "source": [
    "# Load relations, examples"
   ]
  },
  {
   "cell_type": "code",
   "execution_count": 4,
   "id": "d5421e7f",
   "metadata": {},
   "outputs": [
    {
     "name": "stdout",
     "output_type": "stream",
     "text": [
      "{'entity_id': '/m/027rn', 'entity': 'Dominican Republic', 'entity_desc': '\"The Dominican Republic is a nation on the island of Hispaniola, part of the Greater Antilles archipelago in the Caribbean region. The western three-eighths of the island is occupied by the nation of Haiti, making Hispaniola one of two Caribbean islands, along with Saint Martin, that are shared by two'}\n"
     ]
    }
   ],
   "source": [
    "import encodings\n",
    "from html import entities\n",
    "import json\n",
    "import random\n",
    "\n",
    "relations_file = open('relations.json', encoding=\"utf-8\")\n",
    "relations_dict = json.load(relations_file)\n",
    "relations = list(relations_dict.values())\n",
    "\n",
    "entities_file = open('entities.json', encoding=\"utf-8\")\n",
    "entities_list = json.load(entities_file)\n",
    "print(entities_list[0])\n",
    "\n",
    "ent_id2ent_dict = {ent[\"entity_id\"]:ent[\"entity\"] for ent in entities_list}\n",
    "\n",
    "train_data_file = open('train.txt.json', encoding=\"utf-8\")\n",
    "train_data_list = json.load(train_data_file)\n",
    "\n",
    "ent2dom_file = open('ent_dom.json', encoding=\"utf-8\")\n",
    "ent2dom_dict = json.load(ent2dom_file)\n",
    "\n",
    "dom2ent_file = open('dom_ent.json', encoding=\"utf-8\")\n",
    "dom2ent_dict = json.load(dom2ent_file)"
   ]
  },
  {
   "cell_type": "markdown",
   "id": "d4569bcc",
   "metadata": {},
   "source": [
    "# Select Relations"
   ]
  },
  {
   "cell_type": "code",
   "execution_count": 5,
   "id": "1feefe08",
   "metadata": {},
   "outputs": [
    {
     "name": "stdout",
     "output_type": "stream",
     "text": [
      "mode of transportation transportation how to get here travel destination travel \n",
      "{'Miami', 'Zürich', 'Austin', 'San Francisco', 'Stockholm', 'Dallas', 'Chicago', 'Oslo', 'Orlando', 'Bangkok', 'Paris', 'Vienna', 'Munich', 'Melbourne', 'Helsinki', 'Brussels', 'Tokyo', 'Arlington County', 'Rome', 'Kuala Lumpur', 'Atlanta', 'Los Angeles', 'Wellington', 'Geneva', 'Denver', 'London', 'Philadelphia', 'Hamburg', 'Barcelona', 'Hamilton', 'Boston', 'Toronto', 'Waterloo', 'Frankfurt', 'Montreal', 'Seattle', 'Cambridge', 'Amsterdam', 'Kitchener', 'San Jose', 'Sonoma County', 'Prague', 'New York City', 'Kiev', 'Washington, D.C.', 'Sydney', 'Madrid', 'Burlington', 'St. Catharines', 'Anaheim', 'Lyon', 'Las Vegas', 'Niagara Falls', 'Milan', 'Luxembourg', 'Strasbourg', 'Dublin', 'Vilnius', 'Buffalo', 'Hong Kong', 'Copenhagen', 'San Diego', 'Portland', 'Vancouver', 'Kaunas', 'Bhubaneswar', 'Singapore', 'Beijing', 'Shanghai', 'Berlin'}\n",
      "{'Bus', 'Automobile', 'Rail transport', 'Air travel', 'Train'}\n",
      "{1, 2, 3, 4, 5, 6, 7, 8, 9, 10, 11, 12, 13, 14, 15, 16, 17, 18, 21, 22, 23, 24, 29, 33, 34, 36, 37, 42, 43, 44, 46, 47, 51, 53, 54, 57, 59, 60, 62, 71}\n",
      "11\n",
      "Liverpool\n",
      "Greenwich\n",
      "Saint Petersburg\n",
      "Darlington\n",
      "Birmingham\n",
      "Fremantle\n",
      "Stockton-on-Tees\n",
      "St. Petersburg\n",
      "Southampton\n",
      "Amtrak\n",
      "Lisbon\n"
     ]
    }
   ],
   "source": [
    "##### Load Relations #####\n",
    "from xml import dom\n",
    "\n",
    "\n",
    "random.seed(2)\n",
    "rel = random.choice(relations)\n",
    "print(rel)\n",
    "sampled_data = [data_ex for data_ex in train_data_list if data_ex[\"relation\"] == rel]\n",
    "data_heads = [ex['head'] for ex in sampled_data]\n",
    "data_head_ids = [ex['head_id'] for ex in sampled_data]\n",
    "data_tails = [ex['tail'] for ex in sampled_data]\n",
    "data_tail_ids = [ex['tail_id'] for ex in sampled_data]\n",
    "\n",
    "print(set(data_heads))\n",
    "print(set(data_tails))\n",
    "\n",
    "###### find dom according to ents #####\n",
    "dom_set = set()\n",
    "for ent in data_head_ids:\n",
    "    dom_set = dom_set.union(ent2dom_dict[ent])\n",
    "print(dom_set)\n",
    "\n",
    "# concept 71 is used\n",
    "margin_ent_ids = set(dom2ent_dict[str(71)]) - set(data_head_ids)\n",
    "print(len(margin_ent_ids))\n",
    "\n",
    "for id in margin_ent_ids:\n",
    "    print(ent_id2ent_dict[id])"
   ]
  },
  {
   "cell_type": "markdown",
   "id": "a88d936c",
   "metadata": {},
   "source": [
    "# Indataset Entities"
   ]
  },
  {
   "cell_type": "code",
   "execution_count": 6,
   "id": "dd0a73e2",
   "metadata": {},
   "outputs": [
    {
     "name": "stdout",
     "output_type": "stream",
     "text": [
      "[{'entity_id': '/m/0lhql', 'entity': 'St. Petersburg', 'entity_desc': '\"St. Petersburg is a city in Pinellas County, Florida, United States. As of the 2010 census, the population was 244,769, making St. Petersburg the fourth most populous city in the state of Florida and the largest city in Florida that is not a county seat. St. Petersburg is the second'}, {'entity_id': '/m/06pr6', 'entity': 'Saint Petersburg', 'entity_desc': '\"Saint Petersburg is a city and a federal subject of Russia located on the Neva River at the head of the Gulf of Finland on the Baltic Sea. In 1914 the name of the city was changed from Saint Petersburg to Petrograd, in 1924 to Leningrad, and in 1991, back'}, {'entity_id': '/m/04lh6', 'entity': 'Liverpool', 'entity_desc': '\"Liverpool is a city and metropolitan borough of Merseyside, England, United Kingdom along the eastern side of the Mersey Estuary. It was founded as a borough in 1207 and was granted city status in 1880. In 2011 the population administered by Liverpool City Council was 466,415 and is at the'}, {'entity_id': '/m/0k33p', 'entity': 'Birmingham', 'entity_desc': '\"Birmingham is a city and metropolitan borough in the West Midlands of England. It is the most populous British city outside London with 1,085,400 residents, and its population increase of 88,400 residents between 2001 and 2011 was greater than that of any other British local authority. The city lies within'}, {'entity_id': '/m/0grd7', 'entity': 'Southampton', 'entity_desc': '\"Southampton is the largest city in the ceremonial county of Hampshire on the south coast of England, and is situated 75 miles south-west of London and 19 miles north-west of Portsmouth. Southampton is a major port and the closest city to the New Forest. It lies at the northernmost point'}, {'entity_id': '/m/0nqv1', 'entity': 'Greenwich', 'entity_desc': '\"Greenwich is a district of South East London, England, located in the Royal Borough of Greenwich and situated 5.5 miles east south-east of Charing Cross.\\\\nGreenwich is notable for its maritime history and for giving its name to the Greenwich Meridian and Greenwich Mean Time. The town became the site of'}, {'entity_id': '/m/04llb', 'entity': 'Lisbon', 'entity_desc': '\"Lisbon is the capital and the largest city of Portugal with a population of 547,631 within its administrative limits on a land area of 84.8 square kilometres. The urban area of Lisbon extends beyond the administrative city limits with a population of over 3 million on an area of 958'}, {'entity_id': '/m/012q8y', 'entity': 'Fremantle', 'entity_desc': '\"Fremantle is a city in Western Australia, located at the mouth of the Swan River. Fremantle Harbour serves as the port of Perth, the state capital. Fremantle was the first area settled by the Swan River colonists in 1829. It was declared a city in 1929, and has a population'}, {'entity_id': '/m/0156ts', 'entity': 'Darlington', 'entity_desc': '\"Darlington is a market town in County Durham, north-east England. It is also the major settlement in the unitary authority and Borough of Darlington, with a resident population of 106,000 as of 2011. The town lies on the small River Skerne, a tributary of the River Tees, not far from'}, {'entity_id': '/m/0dn_w', 'entity': 'Amtrak', 'entity_desc': '\"The National Railroad Passenger Corporation, doing business as Amtrak, is a publicly funded railroad service operated and managed as a for-profit corporation and began operations on May 1, 1971, to provide intercity passenger train service in the United States.\\\\nAmtrak operates 374 trains each day on 31,474 miles of track with'}, {'entity_id': '/m/01wdgb', 'entity': 'Stockton-on-Tees', 'entity_desc': '\"Stockton-on-Tees is a market town in North East England. It is the major settlement in the unitary authority and borough of Stockton-on-Tees. For ceremonial purposes, the borough is split between County Durham and North Yorkshire as it also incorporates a number of smaller towns and villages including Billingham, Yarm, Thornaby'}]\n"
     ]
    }
   ],
   "source": [
    "indataset_ents_list = [ent for ent in entities_list if ent[\"entity_id\"] in margin_ent_ids]\n",
    "print(indataset_ents_list)\n",
    "\n",
    "\n",
    "####### save indataset entities\n",
    "indataset_ents_string = json.dumps(indataset_ents_list)\n",
    "with open('indataset_ents.json', 'w') as outfile:\n",
    "    outfile.write(indataset_ents_string)\n",
    "    \n",
    "####### save tail ent\n",
    "tail_string = json.dumps(data_tail_ids)\n",
    "with open('tail_ents.json', 'w') as outfile:\n",
    "    outfile.write(tail_string)\n"
   ]
  },
  {
   "cell_type": "markdown",
   "id": "6e4e6fd2",
   "metadata": {},
   "source": [
    "# New Entities"
   ]
  },
  {
   "cell_type": "code",
   "execution_count": 7,
   "id": "d220be5e",
   "metadata": {},
   "outputs": [],
   "source": [
    "new_ents = {\n",
    "    \"Reykjavik\",\n",
    "    \"Lucerne\",\n",
    "    \"Naples\",\n",
    "    \"Pompeii\",\n",
    "    \"Tallinn\",\n",
    "    \"Macau\",\n",
    "    \"Seoul\",\n",
    "    \"Istanbul\",\n",
    "    \"Zurich\",\n",
    "    \"Shenyang\"\n",
    "}\n",
    "\n",
    "desc_list = {\n",
    "    \"Reykjavík is the capital and largest city of Iceland. It is located in southwestern Iceland, on the southern shore of Faxaflói bay. Its latitude is 64°08' N, making it the world's northernmost capital of a sovereign state. With a population of around 131,136 (and 233,034 in the Capital Region), it is the centre of Iceland's cultural, economic, and governmental activity, and is a popular tourist destination.\",\n",
    "    \"Lucerne or Luzern is a city in central Switzerland, in the German-speaking portion of the country. Lucerne is the capital of the canton of Lucerne and part of the district of the same name. With a population of approximately 82,000 people, Lucerne is the most populous city in Central Switzerland, and a nexus of economics, transportation, culture, and media in the region.\",\n",
    "    \"Naples is the regional capital of Campania and the third-largest city of Italy, after Rome and Milan, with a population of 967,069 within the city's administrative limits as of 2017. Its province-level municipality is the third-most populous metropolitan city in Italy with a population of 3,115,320 residents, and its metropolitan area stretches beyond the boundaries of the city wall for approximately 20 miles.\",\n",
    "    \"Pompeii was an ancient city located in what is now the comune of Pompei near Naples in the Campania region of Italy. Pompeii, along with Herculaneum and many villas in the surrounding area (e.g. at Boscoreale, Stabiae), was buried under 4 to 6 m (13 to 20 ft) of volcanic ash and pumice in the eruption of Mount Vesuvius in AD 79.\",\n",
    "    \"Tallinn is the most populous, primate, and capital city of Estonia. Situated on a bay in north Estonia, on the shore of the Gulf of Finland of the Baltic Sea, Tallinn has a population of 437,811 (as of 2022) and administratively lies in the Harju maakond (county). Tallinn is the main financial, industrial, and cultural centre of Estonia.\",\n",
    "    \"Macau or Macao officially the Macao Special Administrative Region of the People's Republic of China (MSAR), is a city and special administrative region of China in the western Pearl River Delta by the South China Sea. With a population of about 680,000 and an area of 32.9 km2 (12.7 sq mi), it is the most densely populated region in the world.\",\n",
    "    \"Seoul, officially known as the Seoul Special City, is the capital and largest metropolis of South Korea. According to the 2020 census, Seoul has a population of 9.9 million people, and forms the heart of the Seoul Capital Area with the surrounding Incheon metropolis and Gyeonggi province. Seoul was the world's 4th largest metropolitan economy in 2014 after Tokyo, New York City and Los Angeles.\",\n",
    "    \"Istanbul, formerly known as Constantinople, is the largest city in Turkey, serving as the country's economic, cultural and historic hub. The city straddles the Bosporus strait, lying in both Europe and Asia, and has a population of over 15 million residents, comprising 19% of the population of Turkey. Istanbul is the most populous European city, and the world's 15th-largest city.\",\n",
    "    \"Zürich (see below) is the largest city in Switzerland and the capital of the canton of Zürich. It is located in north-central Switzerland, at the northwestern tip of Lake Zürich. As of January 2020, the municipality has 434,335 inhabitants, the urban area 1.315 million (2009), and the Zürich metropolitan area 1.83 million (2011).\",\n",
    "    \"Shenyang, formerly known as Fengtian or by its Manchu name Mukden, is a major Chinese sub-provincial city and the provincial capital of Liaoning province. Located in central-north Liaoning, it's the province's most populous city, with a total population of 9,070,093 inhabitants as of the 2020 census.\"\n",
    "}\n",
    "\n",
    "desc_list_truncated = []\n",
    "for desc in desc_list:\n",
    "    desc_list_truncated.append(\" \".join(desc.split(\" \")[:50]))\n",
    "    \n",
    "outdataset_ents_list = []\n",
    "for i, ent_name in enumerate(new_ents):\n",
    "    outdataset_ents_list.append({\n",
    "        \"entity_id\": ent_name,\n",
    "        \"entity\": ent_name,\n",
    "        \"entity_desc\": desc_list_truncated[i] \n",
    "    })"
   ]
  },
  {
   "cell_type": "code",
   "execution_count": 8,
   "id": "eab64bc7",
   "metadata": {},
   "outputs": [],
   "source": [
    "outdataset_ents_string = json.dumps(outdataset_ents_list)\n",
    "with open('outdataset_ents.json', 'w') as outfile:\n",
    "    outfile.write(outdataset_ents_string)"
   ]
  },
  {
   "cell_type": "markdown",
   "id": "c6169b02",
   "metadata": {},
   "source": [
    "# Load Indataset Entities"
   ]
  },
  {
   "cell_type": "code",
   "execution_count": 9,
   "id": "2fbd4ded",
   "metadata": {},
   "outputs": [
    {
     "name": "stdout",
     "output_type": "stream",
     "text": [
      "['0', '0', '0', '0', '0', '0', '0', '0', '0', '0', '0', '1', '1', '1', '1', '1', '1', '1', '1', '1', '1', '2', '2', '2', '2', '2']\n"
     ]
    }
   ],
   "source": [
    "import torch\n",
    "\n",
    "indataset_embedding = torch.load('indataset_hr.pt')\n",
    "outdataset_embedding = torch.load('outdataset_hr.pt')\n",
    "tail_embedding = torch.unique(torch.load('tail.pt'), dim=0)\n",
    "\n",
    "total_embedding = torch.cat((indataset_embedding, outdataset_embedding, tail_embedding), 0).cpu().numpy()\n",
    "hue_label = [\"0\"]*len(indataset_embedding) + [\"1\"]*len(outdataset_embedding) + [\"2\"]*len(tail_embedding)\n",
    "print(hue_label)"
   ]
  },
  {
   "cell_type": "code",
   "execution_count": 10,
   "id": "2790cfb8",
   "metadata": {},
   "outputs": [
    {
     "data": {
      "text/plain": [
       "<AxesSubplot:>"
      ]
     },
     "execution_count": 10,
     "metadata": {},
     "output_type": "execute_result"
    },
    {
     "data": {
      "image/png": "[encoded data removed]",
      "text/plain": [
       "<Figure size 432x288 with 1 Axes>"
      ]
     },
     "metadata": {
      "needs_background": "light"
     },
     "output_type": "display_data"
    }
   ],
   "source": [
    "from sklearn.manifold import TSNE\n",
    "import matplotlib.pyplot as plt\n",
    "import seaborn as sns \n",
    "from sklearn.decomposition import PCA\n",
    "\n",
    "pca = PCA(n_components=2).fit(total_embedding)\n",
    "embedding_pca = pca.transform(total_embedding)\n",
    "plt.figure(figsize=(6,4))\n",
    "sns.scatterplot(x=embedding_pca[:,0], y=embedding_pca[:,1], hue=hue_label)"
   ]
  },
  {
   "cell_type": "code",
   "execution_count": 11,
   "id": "f6b3c077",
   "metadata": {},
   "outputs": [
    {
     "name": "stdout",
     "output_type": "stream",
     "text": [
      "[t-SNE] Computing 25 nearest neighbors...\n",
      "[t-SNE] Indexed 26 samples in 0.001s...\n",
      "[t-SNE] Computed neighbors for 26 samples in 0.002s...\n",
      "[t-SNE] Computed conditional probabilities for sample 26 / 26\n",
      "[t-SNE] Mean sigma: 1125899906842624.000000\n",
      "[t-SNE] KL divergence after 250 iterations with early exaggeration: 50.534313\n",
      "[t-SNE] KL divergence after 1000 iterations: 0.463988\n"
     ]
    },
    {
     "data": {
      "text/plain": [
       "<AxesSubplot:>"
      ]
     },
     "execution_count": 11,
     "metadata": {},
     "output_type": "execute_result"
    },
    {
     "data": {
      "image/png": "[encoded data removed]",
      "text/plain": [
       "<Figure size 432x288 with 1 Axes>"
      ]
     },
     "metadata": {
      "needs_background": "light"
     },
     "output_type": "display_data"
    }
   ],
   "source": [
    "tsne = TSNE(n_components=2, verbose=1, random_state=123)\n",
    "embedding_tsne = tsne.fit_transform(total_embedding)\n",
    "plt.figure(figsize=(6,4))\n",
    "sns.scatterplot(x=embedding_tsne[:,0], y=embedding_tsne[:,1], hue=hue_label)"
   ]
  },
  {
   "cell_type": "code",
   "execution_count": null,
   "id": "b6a5843a",
   "metadata": {},
   "outputs": [],
   "source": []
  }
 ],
 "metadata": {
  "kernelspec": {
   "display_name": "Python 3.9.7 ('base')",
   "language": "python",
   "name": "python3"
  },
  "language_info": {
   "codemirror_mode": {
    "name": "ipython",
    "version": 3
   },
   "file_extension": ".py",
   "mimetype": "text/x-python",
   "name": "python",
   "nbconvert_exporter": "python",
   "pygments_lexer": "ipython3",
   "version": "3.9.7"
  },
  "vscode": {
   "interpreter": {
    "hash": "91bb753b057673435fb8d6f6a083e6c818364728098c7ae050ca3a25357dd754"
   }
  }
 },
 "nbformat": 4,
 "nbformat_minor": 5
}
