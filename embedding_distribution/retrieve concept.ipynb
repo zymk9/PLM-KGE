{
 "metadata": {
  "language_info": {
   "codemirror_mode": {
    "name": "ipython",
    "version": 3
   },
   "file_extension": ".py",
   "mimetype": "text/x-python",
   "name": "python",
   "nbconvert_exporter": "python",
   "pygments_lexer": "ipython3",
   "version": "3.9.13-final"
  },
  "orig_nbformat": 2,
  "kernelspec": {
   "name": "python39264bit37251ed21c9841e7b556eae44b0ec60e",
   "display_name": "Python 3.9.2 64-bit"
  }
 },
 "nbformat": 4,
 "nbformat_minor": 2,
 "cells": [
  {
   "cell_type": "code",
   "execution_count": 11,
   "metadata": {},
   "outputs": [],
   "source": [
    "import pandas as pd\n",
    "import json\n",
    "pd.set_option('display.max_rows', 100)\n",
    "pd.set_option('display.max_columns', None)\n",
    "pd.set_option('display.width', None)\n",
    "pd.set_option('display.max_colwidth', -1)"
   ]
  },
  {
   "cell_type": "code",
   "execution_count": 2,
   "metadata": {},
   "outputs": [
    {
     "output_type": "execute_result",
     "data": {
      "text/plain": [
       "    entity_id                        entity  \\\n",
       "0  /m/027rn    Dominican Republic             \n",
       "1  /m/06cx9    Republic                       \n",
       "2  /m/017dcd   Mighty Morphin Power Rangers   \n",
       "3  /m/06v8s0   Wendee Lee                     \n",
       "4  /m/07s9rl0  Drama                          \n",
       "\n",
       "                                                                                                                                                                                                                                                                                                                                                                                  entity_desc  \n",
       "0  \"The Dominican Republic is a nation on the island of Hispaniola, part of the Greater Antilles archipelago in the Caribbean region. The western three-eighths of the island is occupied by the nation of Haiti, making Hispaniola one of two Caribbean islands, along with Saint Martin, that are shared by two                                                                              \n",
       "1  \"A republic is a form of government in which power is held by the people and representatives they elect, and affairs of state are a \\\"public matter\\\", rather than privately accommodated. In modern times the definition of a republic is also commonly limited to a government which excludes a monarch.                                                                                  \n",
       "2  \"Mighty Morphin Power Rangers is an American live action children's television series that premiered on August 28, 1993, on the Fox Kids weekday afternoon block. The show is about a group of teenagers who were chosen to protect the world from a group of alien invaders and were given the                                                                                             \n",
       "3  \"Wendee Lee is an American voice actress. While she has done voice work for many video games as well as several episodes in the Power Rangers franchise, she is particularly prolific in the dubbing of anime. As of April 2009, with 223 credits to her name, she has more credits                                                                                                         \n",
       "4  \"Drama in entertainment media is a genre involved usually with in the depiction of realistic characters and emotional themes. Dramatic themes may include alcoholism, drug addiction, infidelity, moral dilemmas, racial prejudice, religious intolerance, poverty, class divisions, violence against women and corruption put the characters in conflict with themselves, others, society  "
      ],
      "text/html": "<div>\n<style scoped>\n    .dataframe tbody tr th:only-of-type {\n        vertical-align: middle;\n    }\n\n    .dataframe tbody tr th {\n        vertical-align: top;\n    }\n\n    .dataframe thead th {\n        text-align: right;\n    }\n</style>\n<table border=\"1\" class=\"dataframe\">\n  <thead>\n    <tr style=\"text-align: right;\">\n      <th></th>\n      <th>entity_id</th>\n      <th>entity</th>\n      <th>entity_desc</th>\n    </tr>\n  </thead>\n  <tbody>\n    <tr>\n      <th>0</th>\n      <td>/m/027rn</td>\n      <td>Dominican Republic</td>\n      <td>\"The Dominican Republic is a nation on the island of Hispaniola, part of the Greater Antilles archipelago in the Caribbean region. The western three-eighths of the island is occupied by the nation of Haiti, making Hispaniola one of two Caribbean islands, along with Saint Martin, that are shared by two</td>\n    </tr>\n    <tr>\n      <th>1</th>\n      <td>/m/06cx9</td>\n      <td>Republic</td>\n      <td>\"A republic is a form of government in which power is held by the people and representatives they elect, and affairs of state are a \\\"public matter\\\", rather than privately accommodated. In modern times the definition of a republic is also commonly limited to a government which excludes a monarch.</td>\n    </tr>\n    <tr>\n      <th>2</th>\n      <td>/m/017dcd</td>\n      <td>Mighty Morphin Power Rangers</td>\n      <td>\"Mighty Morphin Power Rangers is an American live action children's television series that premiered on August 28, 1993, on the Fox Kids weekday afternoon block. The show is about a group of teenagers who were chosen to protect the world from a group of alien invaders and were given the</td>\n    </tr>\n    <tr>\n      <th>3</th>\n      <td>/m/06v8s0</td>\n      <td>Wendee Lee</td>\n      <td>\"Wendee Lee is an American voice actress. While she has done voice work for many video games as well as several episodes in the Power Rangers franchise, she is particularly prolific in the dubbing of anime. As of April 2009, with 223 credits to her name, she has more credits</td>\n    </tr>\n    <tr>\n      <th>4</th>\n      <td>/m/07s9rl0</td>\n      <td>Drama</td>\n      <td>\"Drama in entertainment media is a genre involved usually with in the depiction of realistic characters and emotional themes. Dramatic themes may include alcoholism, drug addiction, infidelity, moral dilemmas, racial prejudice, religious intolerance, poverty, class divisions, violence against women and corruption put the characters in conflict with themselves, others, society</td>\n    </tr>\n  </tbody>\n</table>\n</div>"
     },
     "metadata": {},
     "execution_count": 2
    }
   ],
   "source": [
    "###### entity info dataframe ######\n",
    "df_ent_info = pd.read_csv(\"ent_info.csv\", index_col=0)\n",
    "df_ent_info.head()"
   ]
  },
  {
   "cell_type": "code",
   "execution_count": 94,
   "metadata": {},
   "outputs": [],
   "source": [
    "concept_dict={\n",
    "    0: \"actor/actress\", #aaa\n",
    "    1: \"film/comedy\",#/show/drama #aa\n",
    "    2: \"fiction/novel/book\", #aa\n",
    "    3: \"author/writer\",#aaa\n",
    "    4: \"composer/musician\",#/producer/songwriter/singer #aaa\n",
    "    5: \"country\", #\n",
    "    6: 'states/area/city', #a\n",
    "    7: \"University\", #a\n",
    "    8: \"Subject/science\", #aaaa\n",
    "    9: \"genre\", #aaaa\n",
    "    10: \"instrument\", #aa\n",
    "    11: \"award\", #aaa\n",
    "    12: \"sports/team\", #aaa\n",
    "    13: \"company/brand\",\n",
    "    14: \"religion\",\n",
    "    15: \"others\"\n",
    "}\n",
    "56\n",
    "12\n",
    "04"
   ]
  },
  {
   "cell_type": "code",
   "execution_count": null,
   "metadata": {},
   "outputs": [],
   "source": [
    "concept = [\n",
    "'university',\n",
    "'city',\n",
    "'college',\n",
    "'actor',\n",
    "'player',\n",
    "'book',\n",
    "'country',\n",
    "'film',\n",
    "'series',\n",
    "'comedy',\n",
    "'band',\n",
    "'singer',\n",
    "'team',\n",
    "'drummer',\n",
    "'writer',\n",
    "'actress',\n",
    "'sport',\n",
    "'state',\n",
    "'cities',\n",
    "'states',\n",
    "'member',\n",
    "'club',\n",
    "'director',\n",
    "'novelist',\n",
    "'show',\n",
    "'producer',\n",
    "'program',\n",
    "'philosopher',\n",
    "'screenwriter',\n",
    "'person',\n",
    "'form',\n",
    "'art',\n",
    "'guitarist',\n",
    "'county',\n",
    "'teacher',\n",
    "'footballer',\n",
    "'stage',\n",
    "'award',\n",
    "'awards',\n",
    "'violinist'\n",
    "'capital',\n",
    "'president',\n",
    "'instrument'\n",
    "'singer-songwriter',\n",
    "'chhoreographer',\n",
    "'photographer',\n",
    "'channel',\n",
    "'miniseries',\n",
    "'designer',\n",
    "'dynasty',\n",
    "'filmmaker',\n",
    "'artist'\n",
    "]"
   ]
  },
  {
   "cell_type": "code",
   "execution_count": 7,
   "metadata": {},
   "outputs": [
    {
     "output_type": "execute_result",
     "data": {
      "text/plain": [
       "str"
      ]
     },
     "metadata": {},
     "execution_count": 7
    }
   ],
   "source": [
    "type(df_ent_info['entity_desc'][1])"
   ]
  },
  {
   "cell_type": "code",
   "execution_count": 121,
   "metadata": {},
   "outputs": [],
   "source": [
    "feature_list = []\n",
    "for i in range(df_ent_info.shape[0]):\n",
    "    str1 = str(df_ent_info['entity_desc'][i]).lower()\n",
    "    if \"subject\" in str1 or \"research\" in str1 or \"study\" in str1 or \"math\" in str1:\n",
    "        feature_list.append(8)\n",
    "    elif \"singer\" in str1 or \"composer\" in str1 or \"musician\" in str1 or \"producer\" in str1 or \"songwriter\" in str1 or \"artist\" in str1 or \"band\" in str1 or \"rapper\" in str1:\n",
    "        feature_list.append(4)\n",
    "    elif \"genre\" in str1 or \"style\" in str1:\n",
    "        feature_list.append(9)\n",
    "    elif \"actor\" in str1 or \"actress\" in str1:\n",
    "        feature_list.append(0)\n",
    "    elif \"award\" in str1:\n",
    "        feature_list.append(11)\n",
    "    elif \"sport\" in str1 or \"ball\" in str1 or \"team\" in str1 or \"race\" in str1 or \"player\" in str1:\n",
    "        feature_list.append(12)\n",
    "    elif \"author\" in str1 or \"writer\" in str1 or \"director\" in str1 or \"filmmaker\" in str1 or \"designer\" in str1 or \"novelist\" in str1 or \"tographer\" in str1:\n",
    "        feature_list.append(3)\n",
    "    elif \"film\" in str1 or \"comedy\" in str1 or \"show\" in str1 or \"drama\" in str1 or \"opera\" in str1 or \"anime\" in str1 or \"movie\" in str1:\n",
    "        feature_list.append(1)\n",
    "    elif \"fiction\" in str1 or \"novel\" in str1 or \"book\" in str1:\n",
    "        feature_list.append(2)\n",
    "    elif \"instrument\" in str1 or \"acoustic\" in str1 or \"music\" in str1 or 'chorus' in str1:\n",
    "        feature_list.append(10)\n",
    "    elif \"university\" in str1 or \"college\" in str1:\n",
    "        feature_list.append(7)\n",
    "    elif \"religion\" in str1 or \"party\" in str1:\n",
    "        feature_list.append(14)\n",
    "    elif (\"city\" in str1 or \"state\" in str1 or \"county\" in str1) and \"country\" not in str1:\n",
    "        feature_list.append(6)\n",
    "    elif \"country\" in str1 or \"nation\" in str1 or \"republic\" in str1 or \"continent\" in str1 or \"region\" in str1 or \"dynasty\" in str1:\n",
    "        feature_list.append(5)\n",
    "    elif \"company\" in str1 or \"ltd\" in str1 or \"brand\" in str1:\n",
    "        feature_list.append(13)\n",
    "    \n",
    "    else:\n",
    "        feature_list.append(15)#not filtered     \n",
    "    \n",
    "        "
   ]
  },
  {
   "cell_type": "code",
   "execution_count": 122,
   "metadata": {},
   "outputs": [
    {
     "output_type": "execute_result",
     "data": {
      "text/plain": [
       "<AxesSubplot:>"
      ]
     },
     "metadata": {},
     "execution_count": 122
    },
    {
     "output_type": "display_data",
     "data": {
      "text/plain": "<Figure size 432x288 with 1 Axes>",
      "image/svg+xml": "<?xml version=\"1.0\" encoding=\"utf-8\" standalone=\"no\"?>\r\n<!DOCTYPE svg PUBLIC \"-//W3C//DTD SVG 1.1//EN\"\r\n  \"http://www.w3.org/Graphics/SVG/1.1/DTD/svg11.dtd\">\r\n<svg height=\"248.518125pt\" version=\"1.1\" viewBox=\"0 0 381.65 248.518125\" width=\"381.65pt\" xmlns=\"http://www.w3.org/2000/svg\" xmlns:xlink=\"http://www.w3.org/1999/xlink\">\r\n <metadata>\r\n  <rdf:RDF xmlns:cc=\"http://creativecommons.org/ns#\" xmlns:dc=\"http://purl.org/dc/elements/1.1/\" xmlns:rdf=\"http://www.w3.org/1999/02/22-rdf-syntax-ns#\">\r\n   <cc:Work>\r\n    <dc:type rdf:resource=\"http://purl.org/dc/dcmitype/StillImage\"/>\r\n    <dc:date>2022-07-07T15:45:39.452927</dc:date>\r\n    <dc:format>image/svg+xml</dc:format>\r\n    <dc:creator>\r\n     <cc:Agent>\r\n      <dc:title>Matplotlib v3.4.2, https://matplotlib.org/</dc:title>\r\n     </cc:Agent>\r\n    </dc:creator>\r\n   </cc:Work>\r\n  </rdf:RDF>\r\n </metadata>\r\n <defs>\r\n  <style type=\"text/css\">*{stroke-linecap:butt;stroke-linejoin:round;}</style>\r\n </defs>\r\n <g id=\"figure_1\">\r\n  <g id=\"patch_1\">\r\n   <path d=\"M -0 248.518125 \r\nL 381.65 248.518125 \r\nL 381.65 0 \r\nL -0 0 \r\nz\r\n\" style=\"fill:none;\"/>\r\n  </g>\r\n  <g id=\"axes_1\">\r\n   <g id=\"patch_2\">\r\n    <path d=\"M 39.65 224.64 \r\nL 374.45 224.64 \r\nL 374.45 7.2 \r\nL 39.65 7.2 \r\nz\r\n\" style=\"fill:#ffffff;\"/>\r\n   </g>\r\n   <g id=\"patch_3\">\r\n    <path clip-path=\"url(#p3f1a5ee318)\" d=\"M 54.868182 224.64 \r\nL 73.890909 224.64 \r\nL 73.890909 106.740985 \r\nL 54.868182 106.740985 \r\nz\r\n\" style=\"fill:#1f77b4;\"/>\r\n   </g>\r\n   <g id=\"patch_4\">\r\n    <path clip-path=\"url(#p3f1a5ee318)\" d=\"M 73.890909 224.64 \r\nL 92.913636 224.64 \r\nL 92.913636 79.96266 \r\nL 73.890909 79.96266 \r\nz\r\n\" style=\"fill:#1f77b4;\"/>\r\n   </g>\r\n   <g id=\"patch_5\">\r\n    <path clip-path=\"url(#p3f1a5ee318)\" d=\"M 92.913636 224.64 \r\nL 111.936364 224.64 \r\nL 111.936364 220.25133 \r\nL 92.913636 220.25133 \r\nz\r\n\" style=\"fill:#1f77b4;\"/>\r\n   </g>\r\n   <g id=\"patch_6\">\r\n    <path clip-path=\"url(#p3f1a5ee318)\" d=\"M 111.936364 224.64 \r\nL 130.959091 224.64 \r\nL 130.959091 182.612906 \r\nL 111.936364 182.612906 \r\nz\r\n\" style=\"fill:#1f77b4;\"/>\r\n   </g>\r\n   <g id=\"patch_7\">\r\n    <path clip-path=\"url(#p3f1a5ee318)\" d=\"M 130.959091 224.64 \r\nL 149.981818 224.64 \r\nL 149.981818 17.554286 \r\nL 130.959091 17.554286 \r\nz\r\n\" style=\"fill:#1f77b4;\"/>\r\n   </g>\r\n   <g id=\"patch_8\">\r\n    <path clip-path=\"url(#p3f1a5ee318)\" d=\"M 149.981818 224.64 \r\nL 169.004545 224.64 \r\nL 169.004545 178.001084 \r\nL 149.981818 178.001084 \r\nz\r\n\" style=\"fill:#1f77b4;\"/>\r\n   </g>\r\n   <g id=\"patch_9\">\r\n    <path clip-path=\"url(#p3f1a5ee318)\" d=\"M 169.004545 224.64 \r\nL 188.027273 224.64 \r\nL 188.027273 69.548867 \r\nL 169.004545 69.548867 \r\nz\r\n\" style=\"fill:#1f77b4;\"/>\r\n   </g>\r\n   <g id=\"patch_10\">\r\n    <path clip-path=\"url(#p3f1a5ee318)\" d=\"M 188.027273 224.64 \r\nL 207.05 224.64 \r\nL 207.05 192.134089 \r\nL 188.027273 192.134089 \r\nz\r\n\" style=\"fill:#1f77b4;\"/>\r\n   </g>\r\n   <g id=\"patch_11\">\r\n    <path clip-path=\"url(#p3f1a5ee318)\" d=\"M 207.05 224.64 \r\nL 226.072727 224.64 \r\nL 226.072727 184.844433 \r\nL 207.05 184.844433 \r\nz\r\n\" style=\"fill:#1f77b4;\"/>\r\n   </g>\r\n   <g id=\"patch_12\">\r\n    <path clip-path=\"url(#p3f1a5ee318)\" d=\"M 226.072727 224.64 \r\nL 245.095455 224.64 \r\nL 245.095455 196.076453 \r\nL 226.072727 196.076453 \r\nz\r\n\" style=\"fill:#1f77b4;\"/>\r\n   </g>\r\n   <g id=\"patch_13\">\r\n    <path clip-path=\"url(#p3f1a5ee318)\" d=\"M 245.095455 224.64 \r\nL 264.118182 224.64 \r\nL 264.118182 209.911921 \r\nL 245.095455 209.911921 \r\nz\r\n\" style=\"fill:#1f77b4;\"/>\r\n   </g>\r\n   <g id=\"patch_14\">\r\n    <path clip-path=\"url(#p3f1a5ee318)\" d=\"M 264.118182 224.64 \r\nL 283.140909 224.64 \r\nL 283.140909 177.257241 \r\nL 264.118182 177.257241 \r\nz\r\n\" style=\"fill:#1f77b4;\"/>\r\n   </g>\r\n   <g id=\"patch_15\">\r\n    <path clip-path=\"url(#p3f1a5ee318)\" d=\"M 283.140909 224.64 \r\nL 302.163636 224.64 \r\nL 302.163636 109.270049 \r\nL 283.140909 109.270049 \r\nz\r\n\" style=\"fill:#1f77b4;\"/>\r\n   </g>\r\n   <g id=\"patch_16\">\r\n    <path clip-path=\"url(#p3f1a5ee318)\" d=\"M 302.163636 224.64 \r\nL 321.186364 224.64 \r\nL 321.186364 218.689261 \r\nL 302.163636 218.689261 \r\nz\r\n\" style=\"fill:#1f77b4;\"/>\r\n   </g>\r\n   <g id=\"patch_17\">\r\n    <path clip-path=\"url(#p3f1a5ee318)\" d=\"M 321.186364 224.64 \r\nL 340.209091 224.64 \r\nL 340.209091 216.829655 \r\nL 321.186364 216.829655 \r\nz\r\n\" style=\"fill:#1f77b4;\"/>\r\n   </g>\r\n   <g id=\"patch_18\">\r\n    <path clip-path=\"url(#p3f1a5ee318)\" d=\"M 340.209091 224.64 \r\nL 359.231818 224.64 \r\nL 359.231818 152.933596 \r\nL 340.209091 152.933596 \r\nz\r\n\" style=\"fill:#1f77b4;\"/>\r\n   </g>\r\n   <g id=\"matplotlib.axis_1\">\r\n    <g id=\"xtick_1\">\r\n     <g id=\"line2d_1\">\r\n      <path clip-path=\"url(#p3f1a5ee318)\" d=\"M 54.868182 224.64 \r\nL 54.868182 7.2 \r\n\" style=\"fill:none;stroke:#b0b0b0;stroke-linecap:square;stroke-width:0.8;\"/>\r\n     </g>\r\n     <g id=\"line2d_2\">\r\n      <defs>\r\n       <path d=\"M 0 0 \r\nL 0 3.5 \r\n\" id=\"m14cd4ef8f3\" style=\"stroke:#000000;stroke-width:0.8;\"/>\r\n      </defs>\r\n      <g>\r\n       <use style=\"stroke:#000000;stroke-width:0.8;\" x=\"54.868182\" xlink:href=\"#m14cd4ef8f3\" y=\"224.64\"/>\r\n      </g>\r\n     </g>\r\n     <g id=\"text_1\">\r\n      <!-- 0 -->\r\n      <g transform=\"translate(51.686932 239.238437)scale(0.1 -0.1)\">\r\n       <defs>\r\n        <path d=\"M 2034 4250 \r\nQ 1547 4250 1301 3770 \r\nQ 1056 3291 1056 2328 \r\nQ 1056 1369 1301 889 \r\nQ 1547 409 2034 409 \r\nQ 2525 409 2770 889 \r\nQ 3016 1369 3016 2328 \r\nQ 3016 3291 2770 3770 \r\nQ 2525 4250 2034 4250 \r\nz\r\nM 2034 4750 \r\nQ 2819 4750 3233 4129 \r\nQ 3647 3509 3647 2328 \r\nQ 3647 1150 3233 529 \r\nQ 2819 -91 2034 -91 \r\nQ 1250 -91 836 529 \r\nQ 422 1150 422 2328 \r\nQ 422 3509 836 4129 \r\nQ 1250 4750 2034 4750 \r\nz\r\n\" id=\"DejaVuSans-30\" transform=\"scale(0.015625)\"/>\r\n       </defs>\r\n       <use xlink:href=\"#DejaVuSans-30\"/>\r\n      </g>\r\n     </g>\r\n    </g>\r\n    <g id=\"xtick_2\">\r\n     <g id=\"line2d_3\">\r\n      <path clip-path=\"url(#p3f1a5ee318)\" d=\"M 95.45 224.64 \r\nL 95.45 7.2 \r\n\" style=\"fill:none;stroke:#b0b0b0;stroke-linecap:square;stroke-width:0.8;\"/>\r\n     </g>\r\n     <g id=\"line2d_4\">\r\n      <g>\r\n       <use style=\"stroke:#000000;stroke-width:0.8;\" x=\"95.45\" xlink:href=\"#m14cd4ef8f3\" y=\"224.64\"/>\r\n      </g>\r\n     </g>\r\n     <g id=\"text_2\">\r\n      <!-- 2 -->\r\n      <g transform=\"translate(92.26875 239.238437)scale(0.1 -0.1)\">\r\n       <defs>\r\n        <path d=\"M 1228 531 \r\nL 3431 531 \r\nL 3431 0 \r\nL 469 0 \r\nL 469 531 \r\nQ 828 903 1448 1529 \r\nQ 2069 2156 2228 2338 \r\nQ 2531 2678 2651 2914 \r\nQ 2772 3150 2772 3378 \r\nQ 2772 3750 2511 3984 \r\nQ 2250 4219 1831 4219 \r\nQ 1534 4219 1204 4116 \r\nQ 875 4013 500 3803 \r\nL 500 4441 \r\nQ 881 4594 1212 4672 \r\nQ 1544 4750 1819 4750 \r\nQ 2544 4750 2975 4387 \r\nQ 3406 4025 3406 3419 \r\nQ 3406 3131 3298 2873 \r\nQ 3191 2616 2906 2266 \r\nQ 2828 2175 2409 1742 \r\nQ 1991 1309 1228 531 \r\nz\r\n\" id=\"DejaVuSans-32\" transform=\"scale(0.015625)\"/>\r\n       </defs>\r\n       <use xlink:href=\"#DejaVuSans-32\"/>\r\n      </g>\r\n     </g>\r\n    </g>\r\n    <g id=\"xtick_3\">\r\n     <g id=\"line2d_5\">\r\n      <path clip-path=\"url(#p3f1a5ee318)\" d=\"M 136.031818 224.64 \r\nL 136.031818 7.2 \r\n\" style=\"fill:none;stroke:#b0b0b0;stroke-linecap:square;stroke-width:0.8;\"/>\r\n     </g>\r\n     <g id=\"line2d_6\">\r\n      <g>\r\n       <use style=\"stroke:#000000;stroke-width:0.8;\" x=\"136.031818\" xlink:href=\"#m14cd4ef8f3\" y=\"224.64\"/>\r\n      </g>\r\n     </g>\r\n     <g id=\"text_3\">\r\n      <!-- 4 -->\r\n      <g transform=\"translate(132.850568 239.238437)scale(0.1 -0.1)\">\r\n       <defs>\r\n        <path d=\"M 2419 4116 \r\nL 825 1625 \r\nL 2419 1625 \r\nL 2419 4116 \r\nz\r\nM 2253 4666 \r\nL 3047 4666 \r\nL 3047 1625 \r\nL 3713 1625 \r\nL 3713 1100 \r\nL 3047 1100 \r\nL 3047 0 \r\nL 2419 0 \r\nL 2419 1100 \r\nL 313 1100 \r\nL 313 1709 \r\nL 2253 4666 \r\nz\r\n\" id=\"DejaVuSans-34\" transform=\"scale(0.015625)\"/>\r\n       </defs>\r\n       <use xlink:href=\"#DejaVuSans-34\"/>\r\n      </g>\r\n     </g>\r\n    </g>\r\n    <g id=\"xtick_4\">\r\n     <g id=\"line2d_7\">\r\n      <path clip-path=\"url(#p3f1a5ee318)\" d=\"M 176.613636 224.64 \r\nL 176.613636 7.2 \r\n\" style=\"fill:none;stroke:#b0b0b0;stroke-linecap:square;stroke-width:0.8;\"/>\r\n     </g>\r\n     <g id=\"line2d_8\">\r\n      <g>\r\n       <use style=\"stroke:#000000;stroke-width:0.8;\" x=\"176.613636\" xlink:href=\"#m14cd4ef8f3\" y=\"224.64\"/>\r\n      </g>\r\n     </g>\r\n     <g id=\"text_4\">\r\n      <!-- 6 -->\r\n      <g transform=\"translate(173.432386 239.238437)scale(0.1 -0.1)\">\r\n       <defs>\r\n        <path d=\"M 2113 2584 \r\nQ 1688 2584 1439 2293 \r\nQ 1191 2003 1191 1497 \r\nQ 1191 994 1439 701 \r\nQ 1688 409 2113 409 \r\nQ 2538 409 2786 701 \r\nQ 3034 994 3034 1497 \r\nQ 3034 2003 2786 2293 \r\nQ 2538 2584 2113 2584 \r\nz\r\nM 3366 4563 \r\nL 3366 3988 \r\nQ 3128 4100 2886 4159 \r\nQ 2644 4219 2406 4219 \r\nQ 1781 4219 1451 3797 \r\nQ 1122 3375 1075 2522 \r\nQ 1259 2794 1537 2939 \r\nQ 1816 3084 2150 3084 \r\nQ 2853 3084 3261 2657 \r\nQ 3669 2231 3669 1497 \r\nQ 3669 778 3244 343 \r\nQ 2819 -91 2113 -91 \r\nQ 1303 -91 875 529 \r\nQ 447 1150 447 2328 \r\nQ 447 3434 972 4092 \r\nQ 1497 4750 2381 4750 \r\nQ 2619 4750 2861 4703 \r\nQ 3103 4656 3366 4563 \r\nz\r\n\" id=\"DejaVuSans-36\" transform=\"scale(0.015625)\"/>\r\n       </defs>\r\n       <use xlink:href=\"#DejaVuSans-36\"/>\r\n      </g>\r\n     </g>\r\n    </g>\r\n    <g id=\"xtick_5\">\r\n     <g id=\"line2d_9\">\r\n      <path clip-path=\"url(#p3f1a5ee318)\" d=\"M 217.195455 224.64 \r\nL 217.195455 7.2 \r\n\" style=\"fill:none;stroke:#b0b0b0;stroke-linecap:square;stroke-width:0.8;\"/>\r\n     </g>\r\n     <g id=\"line2d_10\">\r\n      <g>\r\n       <use style=\"stroke:#000000;stroke-width:0.8;\" x=\"217.195455\" xlink:href=\"#m14cd4ef8f3\" y=\"224.64\"/>\r\n      </g>\r\n     </g>\r\n     <g id=\"text_5\">\r\n      <!-- 8 -->\r\n      <g transform=\"translate(214.014205 239.238437)scale(0.1 -0.1)\">\r\n       <defs>\r\n        <path d=\"M 2034 2216 \r\nQ 1584 2216 1326 1975 \r\nQ 1069 1734 1069 1313 \r\nQ 1069 891 1326 650 \r\nQ 1584 409 2034 409 \r\nQ 2484 409 2743 651 \r\nQ 3003 894 3003 1313 \r\nQ 3003 1734 2745 1975 \r\nQ 2488 2216 2034 2216 \r\nz\r\nM 1403 2484 \r\nQ 997 2584 770 2862 \r\nQ 544 3141 544 3541 \r\nQ 544 4100 942 4425 \r\nQ 1341 4750 2034 4750 \r\nQ 2731 4750 3128 4425 \r\nQ 3525 4100 3525 3541 \r\nQ 3525 3141 3298 2862 \r\nQ 3072 2584 2669 2484 \r\nQ 3125 2378 3379 2068 \r\nQ 3634 1759 3634 1313 \r\nQ 3634 634 3220 271 \r\nQ 2806 -91 2034 -91 \r\nQ 1263 -91 848 271 \r\nQ 434 634 434 1313 \r\nQ 434 1759 690 2068 \r\nQ 947 2378 1403 2484 \r\nz\r\nM 1172 3481 \r\nQ 1172 3119 1398 2916 \r\nQ 1625 2713 2034 2713 \r\nQ 2441 2713 2670 2916 \r\nQ 2900 3119 2900 3481 \r\nQ 2900 3844 2670 4047 \r\nQ 2441 4250 2034 4250 \r\nQ 1625 4250 1398 4047 \r\nQ 1172 3844 1172 3481 \r\nz\r\n\" id=\"DejaVuSans-38\" transform=\"scale(0.015625)\"/>\r\n       </defs>\r\n       <use xlink:href=\"#DejaVuSans-38\"/>\r\n      </g>\r\n     </g>\r\n    </g>\r\n    <g id=\"xtick_6\">\r\n     <g id=\"line2d_11\">\r\n      <path clip-path=\"url(#p3f1a5ee318)\" d=\"M 257.777273 224.64 \r\nL 257.777273 7.2 \r\n\" style=\"fill:none;stroke:#b0b0b0;stroke-linecap:square;stroke-width:0.8;\"/>\r\n     </g>\r\n     <g id=\"line2d_12\">\r\n      <g>\r\n       <use style=\"stroke:#000000;stroke-width:0.8;\" x=\"257.777273\" xlink:href=\"#m14cd4ef8f3\" y=\"224.64\"/>\r\n      </g>\r\n     </g>\r\n     <g id=\"text_6\">\r\n      <!-- 10 -->\r\n      <g transform=\"translate(251.414773 239.238437)scale(0.1 -0.1)\">\r\n       <defs>\r\n        <path d=\"M 794 531 \r\nL 1825 531 \r\nL 1825 4091 \r\nL 703 3866 \r\nL 703 4441 \r\nL 1819 4666 \r\nL 2450 4666 \r\nL 2450 531 \r\nL 3481 531 \r\nL 3481 0 \r\nL 794 0 \r\nL 794 531 \r\nz\r\n\" id=\"DejaVuSans-31\" transform=\"scale(0.015625)\"/>\r\n       </defs>\r\n       <use xlink:href=\"#DejaVuSans-31\"/>\r\n       <use x=\"63.623047\" xlink:href=\"#DejaVuSans-30\"/>\r\n      </g>\r\n     </g>\r\n    </g>\r\n    <g id=\"xtick_7\">\r\n     <g id=\"line2d_13\">\r\n      <path clip-path=\"url(#p3f1a5ee318)\" d=\"M 298.359091 224.64 \r\nL 298.359091 7.2 \r\n\" style=\"fill:none;stroke:#b0b0b0;stroke-linecap:square;stroke-width:0.8;\"/>\r\n     </g>\r\n     <g id=\"line2d_14\">\r\n      <g>\r\n       <use style=\"stroke:#000000;stroke-width:0.8;\" x=\"298.359091\" xlink:href=\"#m14cd4ef8f3\" y=\"224.64\"/>\r\n      </g>\r\n     </g>\r\n     <g id=\"text_7\">\r\n      <!-- 12 -->\r\n      <g transform=\"translate(291.996591 239.238437)scale(0.1 -0.1)\">\r\n       <use xlink:href=\"#DejaVuSans-31\"/>\r\n       <use x=\"63.623047\" xlink:href=\"#DejaVuSans-32\"/>\r\n      </g>\r\n     </g>\r\n    </g>\r\n    <g id=\"xtick_8\">\r\n     <g id=\"line2d_15\">\r\n      <path clip-path=\"url(#p3f1a5ee318)\" d=\"M 338.940909 224.64 \r\nL 338.940909 7.2 \r\n\" style=\"fill:none;stroke:#b0b0b0;stroke-linecap:square;stroke-width:0.8;\"/>\r\n     </g>\r\n     <g id=\"line2d_16\">\r\n      <g>\r\n       <use style=\"stroke:#000000;stroke-width:0.8;\" x=\"338.940909\" xlink:href=\"#m14cd4ef8f3\" y=\"224.64\"/>\r\n      </g>\r\n     </g>\r\n     <g id=\"text_8\">\r\n      <!-- 14 -->\r\n      <g transform=\"translate(332.578409 239.238437)scale(0.1 -0.1)\">\r\n       <use xlink:href=\"#DejaVuSans-31\"/>\r\n       <use x=\"63.623047\" xlink:href=\"#DejaVuSans-34\"/>\r\n      </g>\r\n     </g>\r\n    </g>\r\n   </g>\r\n   <g id=\"matplotlib.axis_2\">\r\n    <g id=\"ytick_1\">\r\n     <g id=\"line2d_17\">\r\n      <path clip-path=\"url(#p3f1a5ee318)\" d=\"M 39.65 224.64 \r\nL 374.45 224.64 \r\n\" style=\"fill:none;stroke:#b0b0b0;stroke-linecap:square;stroke-width:0.8;\"/>\r\n     </g>\r\n     <g id=\"line2d_18\">\r\n      <defs>\r\n       <path d=\"M 0 0 \r\nL -3.5 0 \r\n\" id=\"mffeee138d5\" style=\"stroke:#000000;stroke-width:0.8;\"/>\r\n      </defs>\r\n      <g>\r\n       <use style=\"stroke:#000000;stroke-width:0.8;\" x=\"39.65\" xlink:href=\"#mffeee138d5\" y=\"224.64\"/>\r\n      </g>\r\n     </g>\r\n     <g id=\"text_9\">\r\n      <!-- 0 -->\r\n      <g transform=\"translate(26.2875 228.439219)scale(0.1 -0.1)\">\r\n       <use xlink:href=\"#DejaVuSans-30\"/>\r\n      </g>\r\n     </g>\r\n    </g>\r\n    <g id=\"ytick_2\">\r\n     <g id=\"line2d_19\">\r\n      <path clip-path=\"url(#p3f1a5ee318)\" d=\"M 39.65 187.447882 \r\nL 374.45 187.447882 \r\n\" style=\"fill:none;stroke:#b0b0b0;stroke-linecap:square;stroke-width:0.8;\"/>\r\n     </g>\r\n     <g id=\"line2d_20\">\r\n      <g>\r\n       <use style=\"stroke:#000000;stroke-width:0.8;\" x=\"39.65\" xlink:href=\"#mffeee138d5\" y=\"187.447882\"/>\r\n      </g>\r\n     </g>\r\n     <g id=\"text_10\">\r\n      <!-- 500 -->\r\n      <g transform=\"translate(13.5625 191.247101)scale(0.1 -0.1)\">\r\n       <defs>\r\n        <path d=\"M 691 4666 \r\nL 3169 4666 \r\nL 3169 4134 \r\nL 1269 4134 \r\nL 1269 2991 \r\nQ 1406 3038 1543 3061 \r\nQ 1681 3084 1819 3084 \r\nQ 2600 3084 3056 2656 \r\nQ 3513 2228 3513 1497 \r\nQ 3513 744 3044 326 \r\nQ 2575 -91 1722 -91 \r\nQ 1428 -91 1123 -41 \r\nQ 819 9 494 109 \r\nL 494 744 \r\nQ 775 591 1075 516 \r\nQ 1375 441 1709 441 \r\nQ 2250 441 2565 725 \r\nQ 2881 1009 2881 1497 \r\nQ 2881 1984 2565 2268 \r\nQ 2250 2553 1709 2553 \r\nQ 1456 2553 1204 2497 \r\nQ 953 2441 691 2322 \r\nL 691 4666 \r\nz\r\n\" id=\"DejaVuSans-35\" transform=\"scale(0.015625)\"/>\r\n       </defs>\r\n       <use xlink:href=\"#DejaVuSans-35\"/>\r\n       <use x=\"63.623047\" xlink:href=\"#DejaVuSans-30\"/>\r\n       <use x=\"127.246094\" xlink:href=\"#DejaVuSans-30\"/>\r\n      </g>\r\n     </g>\r\n    </g>\r\n    <g id=\"ytick_3\">\r\n     <g id=\"line2d_21\">\r\n      <path clip-path=\"url(#p3f1a5ee318)\" d=\"M 39.65 150.255764 \r\nL 374.45 150.255764 \r\n\" style=\"fill:none;stroke:#b0b0b0;stroke-linecap:square;stroke-width:0.8;\"/>\r\n     </g>\r\n     <g id=\"line2d_22\">\r\n      <g>\r\n       <use style=\"stroke:#000000;stroke-width:0.8;\" x=\"39.65\" xlink:href=\"#mffeee138d5\" y=\"150.255764\"/>\r\n      </g>\r\n     </g>\r\n     <g id=\"text_11\">\r\n      <!-- 1000 -->\r\n      <g transform=\"translate(7.2 154.054982)scale(0.1 -0.1)\">\r\n       <use xlink:href=\"#DejaVuSans-31\"/>\r\n       <use x=\"63.623047\" xlink:href=\"#DejaVuSans-30\"/>\r\n       <use x=\"127.246094\" xlink:href=\"#DejaVuSans-30\"/>\r\n       <use x=\"190.869141\" xlink:href=\"#DejaVuSans-30\"/>\r\n      </g>\r\n     </g>\r\n    </g>\r\n    <g id=\"ytick_4\">\r\n     <g id=\"line2d_23\">\r\n      <path clip-path=\"url(#p3f1a5ee318)\" d=\"M 39.65 113.063645 \r\nL 374.45 113.063645 \r\n\" style=\"fill:none;stroke:#b0b0b0;stroke-linecap:square;stroke-width:0.8;\"/>\r\n     </g>\r\n     <g id=\"line2d_24\">\r\n      <g>\r\n       <use style=\"stroke:#000000;stroke-width:0.8;\" x=\"39.65\" xlink:href=\"#mffeee138d5\" y=\"113.063645\"/>\r\n      </g>\r\n     </g>\r\n     <g id=\"text_12\">\r\n      <!-- 1500 -->\r\n      <g transform=\"translate(7.2 116.862864)scale(0.1 -0.1)\">\r\n       <use xlink:href=\"#DejaVuSans-31\"/>\r\n       <use x=\"63.623047\" xlink:href=\"#DejaVuSans-35\"/>\r\n       <use x=\"127.246094\" xlink:href=\"#DejaVuSans-30\"/>\r\n       <use x=\"190.869141\" xlink:href=\"#DejaVuSans-30\"/>\r\n      </g>\r\n     </g>\r\n    </g>\r\n    <g id=\"ytick_5\">\r\n     <g id=\"line2d_25\">\r\n      <path clip-path=\"url(#p3f1a5ee318)\" d=\"M 39.65 75.871527 \r\nL 374.45 75.871527 \r\n\" style=\"fill:none;stroke:#b0b0b0;stroke-linecap:square;stroke-width:0.8;\"/>\r\n     </g>\r\n     <g id=\"line2d_26\">\r\n      <g>\r\n       <use style=\"stroke:#000000;stroke-width:0.8;\" x=\"39.65\" xlink:href=\"#mffeee138d5\" y=\"75.871527\"/>\r\n      </g>\r\n     </g>\r\n     <g id=\"text_13\">\r\n      <!-- 2000 -->\r\n      <g transform=\"translate(7.2 79.670746)scale(0.1 -0.1)\">\r\n       <use xlink:href=\"#DejaVuSans-32\"/>\r\n       <use x=\"63.623047\" xlink:href=\"#DejaVuSans-30\"/>\r\n       <use x=\"127.246094\" xlink:href=\"#DejaVuSans-30\"/>\r\n       <use x=\"190.869141\" xlink:href=\"#DejaVuSans-30\"/>\r\n      </g>\r\n     </g>\r\n    </g>\r\n    <g id=\"ytick_6\">\r\n     <g id=\"line2d_27\">\r\n      <path clip-path=\"url(#p3f1a5ee318)\" d=\"M 39.65 38.679409 \r\nL 374.45 38.679409 \r\n\" style=\"fill:none;stroke:#b0b0b0;stroke-linecap:square;stroke-width:0.8;\"/>\r\n     </g>\r\n     <g id=\"line2d_28\">\r\n      <g>\r\n       <use style=\"stroke:#000000;stroke-width:0.8;\" x=\"39.65\" xlink:href=\"#mffeee138d5\" y=\"38.679409\"/>\r\n      </g>\r\n     </g>\r\n     <g id=\"text_14\">\r\n      <!-- 2500 -->\r\n      <g transform=\"translate(7.2 42.478628)scale(0.1 -0.1)\">\r\n       <use xlink:href=\"#DejaVuSans-32\"/>\r\n       <use x=\"63.623047\" xlink:href=\"#DejaVuSans-35\"/>\r\n       <use x=\"127.246094\" xlink:href=\"#DejaVuSans-30\"/>\r\n       <use x=\"190.869141\" xlink:href=\"#DejaVuSans-30\"/>\r\n      </g>\r\n     </g>\r\n    </g>\r\n   </g>\r\n   <g id=\"patch_19\">\r\n    <path d=\"M 39.65 224.64 \r\nL 39.65 7.2 \r\n\" style=\"fill:none;stroke:#000000;stroke-linecap:square;stroke-linejoin:miter;stroke-width:0.8;\"/>\r\n   </g>\r\n   <g id=\"patch_20\">\r\n    <path d=\"M 374.45 224.64 \r\nL 374.45 7.2 \r\n\" style=\"fill:none;stroke:#000000;stroke-linecap:square;stroke-linejoin:miter;stroke-width:0.8;\"/>\r\n   </g>\r\n   <g id=\"patch_21\">\r\n    <path d=\"M 39.65 224.64 \r\nL 374.45 224.64 \r\n\" style=\"fill:none;stroke:#000000;stroke-linecap:square;stroke-linejoin:miter;stroke-width:0.8;\"/>\r\n   </g>\r\n   <g id=\"patch_22\">\r\n    <path d=\"M 39.65 7.2 \r\nL 374.45 7.2 \r\n\" style=\"fill:none;stroke:#000000;stroke-linecap:square;stroke-linejoin:miter;stroke-width:0.8;\"/>\r\n   </g>\r\n  </g>\r\n </g>\r\n <defs>\r\n  <clipPath id=\"p3f1a5ee318\">\r\n   <rect height=\"217.44\" width=\"334.8\" x=\"39.65\" y=\"7.2\"/>\r\n  </clipPath>\r\n </defs>\r\n</svg>\r\n",
      "image/png": "[encoded data removed]"
     },
     "metadata": {
      "needs_background": "light"
     }
    }
   ],
   "source": [
    "fs = pd.Series(feature_list)\n",
    "fs.hist(bins = 16)"
   ]
  },
  {
   "cell_type": "code",
   "execution_count": 123,
   "metadata": {},
   "outputs": [
    {
     "output_type": "execute_result",
     "data": {
      "text/plain": [
       "       entity_id              entity  \\\n",
       "98     /m/060bp   Prime minister-GB    \n",
       "141    /m/05zppz  Male                 \n",
       "142    /m/01rk91  Internship           \n",
       "152    /m/01mw1   Video game           \n",
       "169    /m/0dq3c   Vice President-GB    \n",
       "...         ...                 ...    \n",
       "14509  /m/0jq47   Mercenary-GB         \n",
       "14515  /m/0qb7t   Organization         \n",
       "14518  /m/027qb1  Commissioner-GB      \n",
       "14528  /m/03tp4   Infectious disease   \n",
       "14534  /m/022qqh  Curator-GB           \n",
       "\n",
       "                                                                                                                                                                                                                                                                                                                                                   entity_desc  \\\n",
       "98     \"A prime minister is the most senior minister of cabinet in the executive branch of government in a parliamentary system. In many systems, the prime minister selects and may dismiss other members of the cabinet, and allocates posts to members within the government. In most systems, the prime minister is                                          \n",
       "141    \"A male organism is the physiological sex which produces sperm. Each spermatozoon can fuse with a larger female gamete, or ovum, in the process of fertilization. A male cannot reproduce sexually without access to at least one ovum from a female, but some organisms can reproduce both sexually and asexually.                                       \n",
       "142    \"An internship can be a method of on-the-job training for white-collar and professional careers, yet there are no formal standards defining them as such. Internships for professional careers are similar in some ways to apprenticeships for trade and vocational jobs, but the lack of standardization and oversight leaves the term                   \n",
       "152    \"A video game is an electronic game that involves human interaction with a user interface to generate visual feedback on a video device. The word video in video game traditionally referred to a raster display device, but it now implies any type of display device that can produce two- or                                                           \n",
       "169    \"A vice president is an officer in government or business who is below a president in rank. The name comes from the Latin vice meaning 'in place of'. In some countries, the vice president is called the deputy president. In everyday speech, the abbreviation VP can be used.\"@en                                                                      \n",
       "...                                                                                                                                                                                                                                                                                     ...                                                                      \n",
       "14509  \"Soldier of fortune (also known as mercenary) is a soldier who sells his services.\"@en                                                                                                                                                                                                                                                                    \n",
       "14515  \"An organization is a social entity that has a collective goal and is linked to an external environment. The word is derived from the Greek word organon, itself derived from the better-known word ergon which means \\\"organ\\\" .\"@en                                                                                                                     \n",
       "14518  \"A commissioner is, in principle, the title given to a member of a commission or to an individual who has been given a commission.\\nIn practice, the title of commissioner has evolved to include a variety of senior officials, often sitting on a specific commission. In particular, commissioner frequently refers to                                 \n",
       "14528  NaN                                                                                                                                                                                                                                                                                                                                                       \n",
       "14534  \"A curator is a manager or overseer. Traditionally, a curator or keeper of a cultural heritage institution is a content specialist responsible for an institution's collections and involved with the interpretation of heritage material. The object of a traditional curator's concern necessarily involves tangible objects of some sort, whether it   \n",
       "\n",
       "       concept_class concept_name  \n",
       "98     15             others       \n",
       "141    15             others       \n",
       "142    15             others       \n",
       "152    15             others       \n",
       "169    15             others       \n",
       "...    ..                ...       \n",
       "14509  15             others       \n",
       "14515  15             others       \n",
       "14518  15             others       \n",
       "14528  15             others       \n",
       "14534  15             others       \n",
       "\n",
       "[964 rows x 5 columns]"
      ],
      "text/html": "<div>\n<style scoped>\n    .dataframe tbody tr th:only-of-type {\n        vertical-align: middle;\n    }\n\n    .dataframe tbody tr th {\n        vertical-align: top;\n    }\n\n    .dataframe thead th {\n        text-align: right;\n    }\n</style>\n<table border=\"1\" class=\"dataframe\">\n  <thead>\n    <tr style=\"text-align: right;\">\n      <th></th>\n      <th>entity_id</th>\n      <th>entity</th>\n      <th>entity_desc</th>\n      <th>concept_class</th>\n      <th>concept_name</th>\n    </tr>\n  </thead>\n  <tbody>\n    <tr>\n      <th>98</th>\n      <td>/m/060bp</td>\n      <td>Prime minister-GB</td>\n      <td>\"A prime minister is the most senior minister of cabinet in the executive branch of government in a parliamentary system. In many systems, the prime minister selects and may dismiss other members of the cabinet, and allocates posts to members within the government. In most systems, the prime minister is</td>\n      <td>15</td>\n      <td>others</td>\n    </tr>\n    <tr>\n      <th>141</th>\n      <td>/m/05zppz</td>\n      <td>Male</td>\n      <td>\"A male organism is the physiological sex which produces sperm. Each spermatozoon can fuse with a larger female gamete, or ovum, in the process of fertilization. A male cannot reproduce sexually without access to at least one ovum from a female, but some organisms can reproduce both sexually and asexually.</td>\n      <td>15</td>\n      <td>others</td>\n    </tr>\n    <tr>\n      <th>142</th>\n      <td>/m/01rk91</td>\n      <td>Internship</td>\n      <td>\"An internship can be a method of on-the-job training for white-collar and professional careers, yet there are no formal standards defining them as such. Internships for professional careers are similar in some ways to apprenticeships for trade and vocational jobs, but the lack of standardization and oversight leaves the term</td>\n      <td>15</td>\n      <td>others</td>\n    </tr>\n    <tr>\n      <th>152</th>\n      <td>/m/01mw1</td>\n      <td>Video game</td>\n      <td>\"A video game is an electronic game that involves human interaction with a user interface to generate visual feedback on a video device. The word video in video game traditionally referred to a raster display device, but it now implies any type of display device that can produce two- or</td>\n      <td>15</td>\n      <td>others</td>\n    </tr>\n    <tr>\n      <th>169</th>\n      <td>/m/0dq3c</td>\n      <td>Vice President-GB</td>\n      <td>\"A vice president is an officer in government or business who is below a president in rank. The name comes from the Latin vice meaning 'in place of'. In some countries, the vice president is called the deputy president. In everyday speech, the abbreviation VP can be used.\"@en</td>\n      <td>15</td>\n      <td>others</td>\n    </tr>\n    <tr>\n      <th>...</th>\n      <td>...</td>\n      <td>...</td>\n      <td>...</td>\n      <td>...</td>\n      <td>...</td>\n    </tr>\n    <tr>\n      <th>14509</th>\n      <td>/m/0jq47</td>\n      <td>Mercenary-GB</td>\n      <td>\"Soldier of fortune (also known as mercenary) is a soldier who sells his services.\"@en</td>\n      <td>15</td>\n      <td>others</td>\n    </tr>\n    <tr>\n      <th>14515</th>\n      <td>/m/0qb7t</td>\n      <td>Organization</td>\n      <td>\"An organization is a social entity that has a collective goal and is linked to an external environment. The word is derived from the Greek word organon, itself derived from the better-known word ergon which means \\\"organ\\\" .\"@en</td>\n      <td>15</td>\n      <td>others</td>\n    </tr>\n    <tr>\n      <th>14518</th>\n      <td>/m/027qb1</td>\n      <td>Commissioner-GB</td>\n      <td>\"A commissioner is, in principle, the title given to a member of a commission or to an individual who has been given a commission.\\nIn practice, the title of commissioner has evolved to include a variety of senior officials, often sitting on a specific commission. In particular, commissioner frequently refers to</td>\n      <td>15</td>\n      <td>others</td>\n    </tr>\n    <tr>\n      <th>14528</th>\n      <td>/m/03tp4</td>\n      <td>Infectious disease</td>\n      <td>NaN</td>\n      <td>15</td>\n      <td>others</td>\n    </tr>\n    <tr>\n      <th>14534</th>\n      <td>/m/022qqh</td>\n      <td>Curator-GB</td>\n      <td>\"A curator is a manager or overseer. Traditionally, a curator or keeper of a cultural heritage institution is a content specialist responsible for an institution's collections and involved with the interpretation of heritage material. The object of a traditional curator's concern necessarily involves tangible objects of some sort, whether it</td>\n      <td>15</td>\n      <td>others</td>\n    </tr>\n  </tbody>\n</table>\n<p>964 rows × 5 columns</p>\n</div>"
     },
     "metadata": {},
     "execution_count": 123
    }
   ],
   "source": [
    "df_ent_info.iloc[fs[fs ==15].index]"
   ]
  },
  {
   "cell_type": "code",
   "execution_count": 124,
   "metadata": {},
   "outputs": [],
   "source": [
    "df_ent_info['concept_class'] = feature_list"
   ]
  },
  {
   "cell_type": "code",
   "execution_count": 125,
   "metadata": {},
   "outputs": [
    {
     "output_type": "execute_result",
     "data": {
      "text/plain": [
       "    entity_id                        entity  \\\n",
       "0  /m/027rn    Dominican Republic             \n",
       "1  /m/06cx9    Republic                       \n",
       "2  /m/017dcd   Mighty Morphin Power Rangers   \n",
       "3  /m/06v8s0   Wendee Lee                     \n",
       "4  /m/07s9rl0  Drama                          \n",
       "\n",
       "                                                                                                                                                                                                                                                                                                                                                                                  entity_desc  \\\n",
       "0  \"The Dominican Republic is a nation on the island of Hispaniola, part of the Greater Antilles archipelago in the Caribbean region. The western three-eighths of the island is occupied by the nation of Haiti, making Hispaniola one of two Caribbean islands, along with Saint Martin, that are shared by two                                                                               \n",
       "1  \"A republic is a form of government in which power is held by the people and representatives they elect, and affairs of state are a \\\"public matter\\\", rather than privately accommodated. In modern times the definition of a republic is also commonly limited to a government which excludes a monarch.                                                                                   \n",
       "2  \"Mighty Morphin Power Rangers is an American live action children's television series that premiered on August 28, 1993, on the Fox Kids weekday afternoon block. The show is about a group of teenagers who were chosen to protect the world from a group of alien invaders and were given the                                                                                              \n",
       "3  \"Wendee Lee is an American voice actress. While she has done voice work for many video games as well as several episodes in the Power Rangers franchise, she is particularly prolific in the dubbing of anime. As of April 2009, with 223 credits to her name, she has more credits                                                                                                          \n",
       "4  \"Drama in entertainment media is a genre involved usually with in the depiction of realistic characters and emotional themes. Dramatic themes may include alcoholism, drug addiction, infidelity, moral dilemmas, racial prejudice, religious intolerance, poverty, class divisions, violence against women and corruption put the characters in conflict with themselves, others, society   \n",
       "\n",
       "   concept_class      concept_name  \n",
       "0  5              country           \n",
       "1  6              states/area/city  \n",
       "2  1              film/comedy       \n",
       "3  0              actor/actress     \n",
       "4  9              genre             "
      ],
      "text/html": "<div>\n<style scoped>\n    .dataframe tbody tr th:only-of-type {\n        vertical-align: middle;\n    }\n\n    .dataframe tbody tr th {\n        vertical-align: top;\n    }\n\n    .dataframe thead th {\n        text-align: right;\n    }\n</style>\n<table border=\"1\" class=\"dataframe\">\n  <thead>\n    <tr style=\"text-align: right;\">\n      <th></th>\n      <th>entity_id</th>\n      <th>entity</th>\n      <th>entity_desc</th>\n      <th>concept_class</th>\n      <th>concept_name</th>\n    </tr>\n  </thead>\n  <tbody>\n    <tr>\n      <th>0</th>\n      <td>/m/027rn</td>\n      <td>Dominican Republic</td>\n      <td>\"The Dominican Republic is a nation on the island of Hispaniola, part of the Greater Antilles archipelago in the Caribbean region. The western three-eighths of the island is occupied by the nation of Haiti, making Hispaniola one of two Caribbean islands, along with Saint Martin, that are shared by two</td>\n      <td>5</td>\n      <td>country</td>\n    </tr>\n    <tr>\n      <th>1</th>\n      <td>/m/06cx9</td>\n      <td>Republic</td>\n      <td>\"A republic is a form of government in which power is held by the people and representatives they elect, and affairs of state are a \\\"public matter\\\", rather than privately accommodated. In modern times the definition of a republic is also commonly limited to a government which excludes a monarch.</td>\n      <td>6</td>\n      <td>states/area/city</td>\n    </tr>\n    <tr>\n      <th>2</th>\n      <td>/m/017dcd</td>\n      <td>Mighty Morphin Power Rangers</td>\n      <td>\"Mighty Morphin Power Rangers is an American live action children's television series that premiered on August 28, 1993, on the Fox Kids weekday afternoon block. The show is about a group of teenagers who were chosen to protect the world from a group of alien invaders and were given the</td>\n      <td>1</td>\n      <td>film/comedy</td>\n    </tr>\n    <tr>\n      <th>3</th>\n      <td>/m/06v8s0</td>\n      <td>Wendee Lee</td>\n      <td>\"Wendee Lee is an American voice actress. While she has done voice work for many video games as well as several episodes in the Power Rangers franchise, she is particularly prolific in the dubbing of anime. As of April 2009, with 223 credits to her name, she has more credits</td>\n      <td>0</td>\n      <td>actor/actress</td>\n    </tr>\n    <tr>\n      <th>4</th>\n      <td>/m/07s9rl0</td>\n      <td>Drama</td>\n      <td>\"Drama in entertainment media is a genre involved usually with in the depiction of realistic characters and emotional themes. Dramatic themes may include alcoholism, drug addiction, infidelity, moral dilemmas, racial prejudice, religious intolerance, poverty, class divisions, violence against women and corruption put the characters in conflict with themselves, others, society</td>\n      <td>9</td>\n      <td>genre</td>\n    </tr>\n  </tbody>\n</table>\n</div>"
     },
     "metadata": {},
     "execution_count": 125
    }
   ],
   "source": [
    "df_ent_info.head()"
   ]
  },
  {
   "cell_type": "code",
   "execution_count": 126,
   "metadata": {},
   "outputs": [],
   "source": [
    "df_ent_info['concept_name'] = [concept_dict[a] for a in feature_list]"
   ]
  },
  {
   "cell_type": "code",
   "execution_count": 127,
   "metadata": {},
   "outputs": [
    {
     "output_type": "execute_result",
     "data": {
      "text/plain": [
       "     entity_id                                        entity  \\\n",
       "0   /m/027rn    Dominican Republic                             \n",
       "1   /m/06cx9    Republic                                       \n",
       "2   /m/017dcd   Mighty Morphin Power Rangers                   \n",
       "3   /m/06v8s0   Wendee Lee                                     \n",
       "4   /m/07s9rl0  Drama                                          \n",
       "5   /m/0170z3   American History X                             \n",
       "6   /m/01sl1q   Michelle Rodriguez                             \n",
       "7   /m/044mz_   Naveen Andrews                                 \n",
       "8   /m/0cnk2q   Australia national association football team   \n",
       "9   /m/02nzb8   Midfielder                                     \n",
       "10  /m/04nrcg   Maldives national football team                \n",
       "11  /m/02sdk9v  Forward                                        \n",
       "12  /m/07nznf   Bryan Singer                                   \n",
       "13  /m/014lc_   Star Trek Nemesis                              \n",
       "14  /m/02qyp19  BAFTA Award for Best Original Screenplay       \n",
       "15  /m/02d413   Philadelphia                                   \n",
       "16  /m/0q9kd    Danny DeVito                                   \n",
       "17  /m/0184jc   Guy Pearce                                     \n",
       "18  /m/03q5t    harpsichord                                    \n",
       "19  /m/07y_7    Violin                                         \n",
       "\n",
       "                                                                                                                                                                                                                                                                                                                                                                                   entity_desc  \\\n",
       "0   \"The Dominican Republic is a nation on the island of Hispaniola, part of the Greater Antilles archipelago in the Caribbean region. The western three-eighths of the island is occupied by the nation of Haiti, making Hispaniola one of two Caribbean islands, along with Saint Martin, that are shared by two                                                                               \n",
       "1   \"A republic is a form of government in which power is held by the people and representatives they elect, and affairs of state are a \\\"public matter\\\", rather than privately accommodated. In modern times the definition of a republic is also commonly limited to a government which excludes a monarch.                                                                                   \n",
       "2   \"Mighty Morphin Power Rangers is an American live action children's television series that premiered on August 28, 1993, on the Fox Kids weekday afternoon block. The show is about a group of teenagers who were chosen to protect the world from a group of alien invaders and were given the                                                                                              \n",
       "3   \"Wendee Lee is an American voice actress. While she has done voice work for many video games as well as several episodes in the Power Rangers franchise, she is particularly prolific in the dubbing of anime. As of April 2009, with 223 credits to her name, she has more credits                                                                                                          \n",
       "4   \"Drama in entertainment media is a genre involved usually with in the depiction of realistic characters and emotional themes. Dramatic themes may include alcoholism, drug addiction, infidelity, moral dilemmas, racial prejudice, religious intolerance, poverty, class divisions, violence against women and corruption put the characters in conflict with themselves, others, society   \n",
       "5   \"American History X is a 1998 American drama film directed by Tony Kaye and written by David McKenna. It stars Edward Norton and Edward Furlong, and co-stars Fairuza Balk, Stacy Keach, Elliott Gould, Avery Brooks, Ethan Suplee and Beverly D'Angelo. The film was released in the United States on October                                                                               \n",
       "6   \"Mayte Michelle Rodriguez, simply credited as Michelle Rodriguez, is an American actress, screenwriter and disc jockey. Rodriguez got her breakout role in the independent film Girlfight, which was met with critical acclaim for her performance as a troubled boxer, and earned her several awards, including the Independent Spirit Award and                                            \n",
       "7   \"Naveen William Sidney Andrews is a British actor. He is best known for portraying Sayid Jarrah in the television series Lost, Kip in the film The English Patient and Sanjay in the 2002 remake of Rollerball. For his role on Lost, Andrews was nominated for a Golden Globe in 2006,                                                                                                      \n",
       "8   \"The Australia national association football team represents Australia in international men's association football. The team is controlled by the governing body for association football in Australia, Football Federation Australia, which is currently a member of the Asian Football Confederation and the regional ASEAN Football Federation since leaving the Oceania Football         \n",
       "9   \"A midfielder is an association football position. Midfielders are generally positioned on the field between their team's defense and forwards. Some midfielders play a more defensive role, while others blur the boundaries between midfielders and forwards. The number of midfielders on the team and their assigned roles depends on the                                                \n",
       "10  \"The Maldives national football team represents the Maldives in the sport of football, and is controlled by the Football Association of Maldives. A member of the Asian Football Confederation, it qualified for the second stage of Asian qualifying for the 2006 World Cup, where it drew with South Korea at                                                                              \n",
       "11  \"Forwards are the players on an association football team who play nearest to the opposing team's goal, and are therefore most responsible for scoring goals. Their advanced position and limited defensive responsibilities mean forwards normally score more goals than other players.\\nModern team formations generally include one to three forwards; for                                \n",
       "12  \"Bryan Jay Singer is an American film director, screenwriter and producer. Singer won critical acclaim for his work on The Usual Suspects, and is especially well-known among fans of the science fiction and superhero genres for his work on the X-Men films and Superman Returns. Other notable films he directed                                                                         \n",
       "13  \"Star Trek: Nemesis is a 2002 American science fiction film released by Paramount Pictures. It is the tenth feature film in the Star Trek franchise and the last of the Star Trek films to include the entire main cast of the Star Trek: The Next Generation television series. It was                                                                                                      \n",
       "14  \"The BAFTA Award for Best Original Screenplay is the British Academy Film Award for the best script not based upon previously published material. It has been awarded since 1984, when the original category was split into two awards, the other being the BAFTA Award for Best Adapted Screenplay.\"@en                                                                                     \n",
       "15  \"Philadelphia is a 1993 American drama film and one of the first mainstream Hollywood films to acknowledge HIV/AIDS, homosexuality, and homophobia. It was written by Ron Nyswaner, directed by Jonathan Demme and stars Tom Hanks and Denzel Washington.\\nHanks won the Academy Award for Best Actor for his role as Andrew                                                                 \n",
       "16  \"Daniel Michael \\\"Danny\\\" DeVito, Jr. is an American actor, comedian, director, and producer. He first gained prominence for his portrayal of taxi dispatcher Louie De Palma on the ABC and NBC television series Taxi, for which he won a Golden Globe and an Emmy. He went on to become a                                                                                                  \n",
       "17  \"Guy Edward Pearce is an English-born Australian actor and musician, known for his roles in The Adventures of Priscilla, Queen of the Desert, L.A. Confidential, Memento, The King's Speech, Lockout, Prometheus, and Iron Man 3. He also played Mike Young in the Australian television series Neighbours, and has won an                                                                   \n",
       "18  \"A harpsichord is a musical instrument similar to a piano played by means of a keyboard. It produces sound by plucking a string when a key is pressed.\\n\\\"Harpsichord\\\" designates the whole family of similar plucked keyboard instruments, including the smaller virginals, muselar, and spinet.\\nThe harpsichord was widely used in Renaissance                                           \n",
       "19  \"The violin, also known as a fiddle, is a string instrument, usually with four strings tuned in perfect fifths. It is the smallest, highest-pitched member of the violin family of string instruments, which also includes the viola, the cello and the double bass.\\nSomeone who plays the violin is called a                                                                               \n",
       "\n",
       "    concept_class       concept_name  \n",
       "0   5              country            \n",
       "1   6              states/area/city   \n",
       "2   1              film/comedy        \n",
       "3   0              actor/actress      \n",
       "4   9              genre              \n",
       "5   1              film/comedy        \n",
       "6   0              actor/actress      \n",
       "7   0              actor/actress      \n",
       "8   12             sports/team        \n",
       "9   12             sports/team        \n",
       "10  12             sports/team        \n",
       "11  12             sports/team        \n",
       "12  4              composer/musician  \n",
       "13  1              film/comedy        \n",
       "14  11             award              \n",
       "15  0              actor/actress      \n",
       "16  4              composer/musician  \n",
       "17  4              composer/musician  \n",
       "18  10             instrument         \n",
       "19  10             instrument         "
      ],
      "text/html": "<div>\n<style scoped>\n    .dataframe tbody tr th:only-of-type {\n        vertical-align: middle;\n    }\n\n    .dataframe tbody tr th {\n        vertical-align: top;\n    }\n\n    .dataframe thead th {\n        text-align: right;\n    }\n</style>\n<table border=\"1\" class=\"dataframe\">\n  <thead>\n    <tr style=\"text-align: right;\">\n      <th></th>\n      <th>entity_id</th>\n      <th>entity</th>\n      <th>entity_desc</th>\n      <th>concept_class</th>\n      <th>concept_name</th>\n    </tr>\n  </thead>\n  <tbody>\n    <tr>\n      <th>0</th>\n      <td>/m/027rn</td>\n      <td>Dominican Republic</td>\n      <td>\"The Dominican Republic is a nation on the island of Hispaniola, part of the Greater Antilles archipelago in the Caribbean region. The western three-eighths of the island is occupied by the nation of Haiti, making Hispaniola one of two Caribbean islands, along with Saint Martin, that are shared by two</td>\n      <td>5</td>\n      <td>country</td>\n    </tr>\n    <tr>\n      <th>1</th>\n      <td>/m/06cx9</td>\n      <td>Republic</td>\n      <td>\"A republic is a form of government in which power is held by the people and representatives they elect, and affairs of state are a \\\"public matter\\\", rather than privately accommodated. In modern times the definition of a republic is also commonly limited to a government which excludes a monarch.</td>\n      <td>6</td>\n      <td>states/area/city</td>\n    </tr>\n    <tr>\n      <th>2</th>\n      <td>/m/017dcd</td>\n      <td>Mighty Morphin Power Rangers</td>\n      <td>\"Mighty Morphin Power Rangers is an American live action children's television series that premiered on August 28, 1993, on the Fox Kids weekday afternoon block. The show is about a group of teenagers who were chosen to protect the world from a group of alien invaders and were given the</td>\n      <td>1</td>\n      <td>film/comedy</td>\n    </tr>\n    <tr>\n      <th>3</th>\n      <td>/m/06v8s0</td>\n      <td>Wendee Lee</td>\n      <td>\"Wendee Lee is an American voice actress. While she has done voice work for many video games as well as several episodes in the Power Rangers franchise, she is particularly prolific in the dubbing of anime. As of April 2009, with 223 credits to her name, she has more credits</td>\n      <td>0</td>\n      <td>actor/actress</td>\n    </tr>\n    <tr>\n      <th>4</th>\n      <td>/m/07s9rl0</td>\n      <td>Drama</td>\n      <td>\"Drama in entertainment media is a genre involved usually with in the depiction of realistic characters and emotional themes. Dramatic themes may include alcoholism, drug addiction, infidelity, moral dilemmas, racial prejudice, religious intolerance, poverty, class divisions, violence against women and corruption put the characters in conflict with themselves, others, society</td>\n      <td>9</td>\n      <td>genre</td>\n    </tr>\n    <tr>\n      <th>5</th>\n      <td>/m/0170z3</td>\n      <td>American History X</td>\n      <td>\"American History X is a 1998 American drama film directed by Tony Kaye and written by David McKenna. It stars Edward Norton and Edward Furlong, and co-stars Fairuza Balk, Stacy Keach, Elliott Gould, Avery Brooks, Ethan Suplee and Beverly D'Angelo. The film was released in the United States on October</td>\n      <td>1</td>\n      <td>film/comedy</td>\n    </tr>\n    <tr>\n      <th>6</th>\n      <td>/m/01sl1q</td>\n      <td>Michelle Rodriguez</td>\n      <td>\"Mayte Michelle Rodriguez, simply credited as Michelle Rodriguez, is an American actress, screenwriter and disc jockey. Rodriguez got her breakout role in the independent film Girlfight, which was met with critical acclaim for her performance as a troubled boxer, and earned her several awards, including the Independent Spirit Award and</td>\n      <td>0</td>\n      <td>actor/actress</td>\n    </tr>\n    <tr>\n      <th>7</th>\n      <td>/m/044mz_</td>\n      <td>Naveen Andrews</td>\n      <td>\"Naveen William Sidney Andrews is a British actor. He is best known for portraying Sayid Jarrah in the television series Lost, Kip in the film The English Patient and Sanjay in the 2002 remake of Rollerball. For his role on Lost, Andrews was nominated for a Golden Globe in 2006,</td>\n      <td>0</td>\n      <td>actor/actress</td>\n    </tr>\n    <tr>\n      <th>8</th>\n      <td>/m/0cnk2q</td>\n      <td>Australia national association football team</td>\n      <td>\"The Australia national association football team represents Australia in international men's association football. The team is controlled by the governing body for association football in Australia, Football Federation Australia, which is currently a member of the Asian Football Confederation and the regional ASEAN Football Federation since leaving the Oceania Football</td>\n      <td>12</td>\n      <td>sports/team</td>\n    </tr>\n    <tr>\n      <th>9</th>\n      <td>/m/02nzb8</td>\n      <td>Midfielder</td>\n      <td>\"A midfielder is an association football position. Midfielders are generally positioned on the field between their team's defense and forwards. Some midfielders play a more defensive role, while others blur the boundaries between midfielders and forwards. The number of midfielders on the team and their assigned roles depends on the</td>\n      <td>12</td>\n      <td>sports/team</td>\n    </tr>\n    <tr>\n      <th>10</th>\n      <td>/m/04nrcg</td>\n      <td>Maldives national football team</td>\n      <td>\"The Maldives national football team represents the Maldives in the sport of football, and is controlled by the Football Association of Maldives. A member of the Asian Football Confederation, it qualified for the second stage of Asian qualifying for the 2006 World Cup, where it drew with South Korea at</td>\n      <td>12</td>\n      <td>sports/team</td>\n    </tr>\n    <tr>\n      <th>11</th>\n      <td>/m/02sdk9v</td>\n      <td>Forward</td>\n      <td>\"Forwards are the players on an association football team who play nearest to the opposing team's goal, and are therefore most responsible for scoring goals. Their advanced position and limited defensive responsibilities mean forwards normally score more goals than other players.\\nModern team formations generally include one to three forwards; for</td>\n      <td>12</td>\n      <td>sports/team</td>\n    </tr>\n    <tr>\n      <th>12</th>\n      <td>/m/07nznf</td>\n      <td>Bryan Singer</td>\n      <td>\"Bryan Jay Singer is an American film director, screenwriter and producer. Singer won critical acclaim for his work on The Usual Suspects, and is especially well-known among fans of the science fiction and superhero genres for his work on the X-Men films and Superman Returns. Other notable films he directed</td>\n      <td>4</td>\n      <td>composer/musician</td>\n    </tr>\n    <tr>\n      <th>13</th>\n      <td>/m/014lc_</td>\n      <td>Star Trek Nemesis</td>\n      <td>\"Star Trek: Nemesis is a 2002 American science fiction film released by Paramount Pictures. It is the tenth feature film in the Star Trek franchise and the last of the Star Trek films to include the entire main cast of the Star Trek: The Next Generation television series. It was</td>\n      <td>1</td>\n      <td>film/comedy</td>\n    </tr>\n    <tr>\n      <th>14</th>\n      <td>/m/02qyp19</td>\n      <td>BAFTA Award for Best Original Screenplay</td>\n      <td>\"The BAFTA Award for Best Original Screenplay is the British Academy Film Award for the best script not based upon previously published material. It has been awarded since 1984, when the original category was split into two awards, the other being the BAFTA Award for Best Adapted Screenplay.\"@en</td>\n      <td>11</td>\n      <td>award</td>\n    </tr>\n    <tr>\n      <th>15</th>\n      <td>/m/02d413</td>\n      <td>Philadelphia</td>\n      <td>\"Philadelphia is a 1993 American drama film and one of the first mainstream Hollywood films to acknowledge HIV/AIDS, homosexuality, and homophobia. It was written by Ron Nyswaner, directed by Jonathan Demme and stars Tom Hanks and Denzel Washington.\\nHanks won the Academy Award for Best Actor for his role as Andrew</td>\n      <td>0</td>\n      <td>actor/actress</td>\n    </tr>\n    <tr>\n      <th>16</th>\n      <td>/m/0q9kd</td>\n      <td>Danny DeVito</td>\n      <td>\"Daniel Michael \\\"Danny\\\" DeVito, Jr. is an American actor, comedian, director, and producer. He first gained prominence for his portrayal of taxi dispatcher Louie De Palma on the ABC and NBC television series Taxi, for which he won a Golden Globe and an Emmy. He went on to become a</td>\n      <td>4</td>\n      <td>composer/musician</td>\n    </tr>\n    <tr>\n      <th>17</th>\n      <td>/m/0184jc</td>\n      <td>Guy Pearce</td>\n      <td>\"Guy Edward Pearce is an English-born Australian actor and musician, known for his roles in The Adventures of Priscilla, Queen of the Desert, L.A. Confidential, Memento, The King's Speech, Lockout, Prometheus, and Iron Man 3. He also played Mike Young in the Australian television series Neighbours, and has won an</td>\n      <td>4</td>\n      <td>composer/musician</td>\n    </tr>\n    <tr>\n      <th>18</th>\n      <td>/m/03q5t</td>\n      <td>harpsichord</td>\n      <td>\"A harpsichord is a musical instrument similar to a piano played by means of a keyboard. It produces sound by plucking a string when a key is pressed.\\n\\\"Harpsichord\\\" designates the whole family of similar plucked keyboard instruments, including the smaller virginals, muselar, and spinet.\\nThe harpsichord was widely used in Renaissance</td>\n      <td>10</td>\n      <td>instrument</td>\n    </tr>\n    <tr>\n      <th>19</th>\n      <td>/m/07y_7</td>\n      <td>Violin</td>\n      <td>\"The violin, also known as a fiddle, is a string instrument, usually with four strings tuned in perfect fifths. It is the smallest, highest-pitched member of the violin family of string instruments, which also includes the viola, the cello and the double bass.\\nSomeone who plays the violin is called a</td>\n      <td>10</td>\n      <td>instrument</td>\n    </tr>\n  </tbody>\n</table>\n</div>"
     },
     "metadata": {},
     "execution_count": 127
    }
   ],
   "source": [
    "df_ent_info.head(20)"
   ]
  },
  {
   "cell_type": "code",
   "execution_count": 128,
   "metadata": {},
   "outputs": [],
   "source": [
    "df_ent_info.to_csv(\"./string_matching_concept.csv\")"
   ]
  },
  {
   "cell_type": "code",
   "execution_count": null,
   "metadata": {},
   "outputs": [],
   "source": []
  }
 ]
}