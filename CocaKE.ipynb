{
  "cells": [
    {
      "cell_type": "code",
      "execution_count": null,
      "metadata": {
        "colab": {
          "base_uri": "https://localhost:8080/"
        },
        "id": "F_TsMuUt18N9",
        "outputId": "0ebeb996-7b45-4e8a-b1ff-6b2a071dfced"
      },
      "outputs": [
        {
          "name": "stdout",
          "output_type": "stream",
          "text": [
            "Process drive/MyDrive/CocaKE/SimKGC/data/FB15k237/train.txt...\n",
            "Load 14904 entity descriptions from drive/MyDrive/CocaKE/SimKGC/data/FB15k237/FB15k_mid2description.txt\n",
            "No desc found for /m/02vxfw_\n",
            "No desc found for /m/02jxk\n",
            "No desc found for /m/03m3nzf\n",
            "No desc found for /m/04_1l0v\n",
            "No desc found for /m/09x_r\n",
            "No desc found for /m/0bytsc\n",
            "No desc found for /m/07_bv_\n",
            "No desc found for /m/03lsz8h\n",
            "No desc found for /m/05xf75\n",
            "No desc found for /m/01dy7j\n",
            "No desc found for /m/09ly2r6\n",
            "No desc found for /m/015zql\n",
            "No desc found for /m/047vp20\n",
            "No desc found for /m/0hk18\n",
            "No desc found for /m/061zc_\n",
            "No desc found for /m/0cfywh\n",
            "No desc found for /m/03tp4\n",
            "No desc found for /m/029cpw\n",
            "No desc found for /m/0lmb5\n",
            "No desc found for /m/0m6x4\n",
            "No desc found for /m/09l65\n",
            "No desc found for /m/0147fv\n",
            "No desc found for /m/0kvrb\n",
            "No desc found for /m/03gwg4w\n",
            "No desc found for /m/0bm39zf\n",
            "No desc found for /m/08mbj32\n",
            "No desc found for /m/068bs\n",
            "No desc found for /m/01xzb6\n",
            "No desc found for /m/07djnx\n",
            "No desc found for /m/02q_plc\n",
            "No desc found for /m/02cjrp\n",
            "No desc found for /m/01xsbh\n",
            "No desc found for /m/03bx017\n",
            "No desc found for /m/01sy5c\n",
            "No desc found for /m/0854hr\n",
            "No desc found for /m/0h005\n",
            "No desc found for /m/01fkv0\n",
            "No desc found for /m/05h4fjx\n",
            "No desc found for /m/05ry0p\n",
            "No desc found for /m/01dvms\n",
            "No desc found for /m/04686_j\n",
            "No desc found for /m/08chdb\n",
            "No desc found for /m/05zvq6g\n",
            "No desc found for /m/0288crq\n",
            "No desc found for /m/01my929\n",
            "No desc found for /m/07t_l23\n",
            "No desc found for /m/07s4911\n",
            "Load 14951 entity names from drive/MyDrive/CocaKE/SimKGC/data/FB15k237/FB15k_mid2name.txt\n",
            "Save 237 relations to drive/MyDrive/CocaKE/SimKGC/data/FB15k237/relations.json\n",
            "Save 272115 examples to drive/MyDrive/CocaKE/SimKGC/data/FB15k237/train.txt.json\n",
            "Process drive/MyDrive/CocaKE/SimKGC/data/FB15k237/valid.txt...\n",
            "Save 17535 examples to drive/MyDrive/CocaKE/SimKGC/data/FB15k237/valid.txt.json\n",
            "Process drive/MyDrive/CocaKE/SimKGC/data/FB15k237/test.txt...\n",
            "Save 20466 examples to drive/MyDrive/CocaKE/SimKGC/data/FB15k237/test.txt.json\n",
            "Get 14541 entities, 237 relations in total\n",
            "Done\n"
          ]
        }
      ],
      "source": [
        "!python -u drive/MyDrive/CocaKE/SimKGC/preprocess.py --task \"FB15k237\" \\\n",
        "--train-path \"drive/MyDrive/CocaKE/SimKGC/data/FB15k237/train.txt\" \\\n",
        "--valid-path \"drive/MyDrive/CocaKE/SimKGC/data/FB15k237/valid.txt\" \\\n",
        "--test-path \"drive/MyDrive/CocaKE/SimKGC/data/FB15k237/test.txt\""
      ]
    },
    {
      "cell_type": "code",
      "execution_count": null,
      "metadata": {
        "colab": {
          "base_uri": "https://localhost:8080/"
        },
        "id": "vZwq84Xtc1JK",
        "outputId": "ac3a0e7b-1ec3-434c-b49e-471b9a60e1ea"
      },
      "outputs": [
        {
          "name": "stdout",
          "output_type": "stream",
          "text": [
            "Collecting transformers\n",
            "  Downloading transformers-4.19.1-py3-none-any.whl (4.2 MB)\n",
            "\u001b[K     |████████████████████████████████| 4.2 MB 5.4 MB/s \n",
            "\u001b[?25hRequirement already satisfied: tqdm>=4.27 in /usr/local/lib/python3.7/dist-packages (from transformers) (4.64.0)\n",
            "Collecting tokenizers!=0.11.3,<0.13,>=0.11.1\n",
            "  Downloading tokenizers-0.12.1-cp37-cp37m-manylinux_2_12_x86_64.manylinux2010_x86_64.whl (6.6 MB)\n",
            "\u001b[K     |████████████████████████████████| 6.6 MB 18.7 MB/s \n",
            "\u001b[?25hCollecting pyyaml>=5.1\n",
            "  Downloading PyYAML-6.0-cp37-cp37m-manylinux_2_5_x86_64.manylinux1_x86_64.manylinux_2_12_x86_64.manylinux2010_x86_64.whl (596 kB)\n",
            "\u001b[K     |████████████████████████████████| 596 kB 40.1 MB/s \n",
            "\u001b[?25hRequirement already satisfied: packaging>=20.0 in /usr/local/lib/python3.7/dist-packages (from transformers) (21.3)\n",
            "Requirement already satisfied: requests in /usr/local/lib/python3.7/dist-packages (from transformers) (2.23.0)\n",
            "Requirement already satisfied: numpy>=1.17 in /usr/local/lib/python3.7/dist-packages (from transformers) (1.21.6)\n",
            "Collecting huggingface-hub<1.0,>=0.1.0\n",
            "  Downloading huggingface_hub-0.6.0-py3-none-any.whl (84 kB)\n",
            "\u001b[K     |████████████████████████████████| 84 kB 3.4 MB/s \n",
            "\u001b[?25hRequirement already satisfied: regex!=2019.12.17 in /usr/local/lib/python3.7/dist-packages (from transformers) (2019.12.20)\n",
            "Requirement already satisfied: filelock in /usr/local/lib/python3.7/dist-packages (from transformers) (3.6.0)\n",
            "Requirement already satisfied: importlib-metadata in /usr/local/lib/python3.7/dist-packages (from transformers) (4.11.3)\n",
            "Requirement already satisfied: typing-extensions>=3.7.4.3 in /usr/local/lib/python3.7/dist-packages (from huggingface-hub<1.0,>=0.1.0->transformers) (4.2.0)\n",
            "Requirement already satisfied: pyparsing!=3.0.5,>=2.0.2 in /usr/local/lib/python3.7/dist-packages (from packaging>=20.0->transformers) (3.0.8)\n",
            "Requirement already satisfied: zipp>=0.5 in /usr/local/lib/python3.7/dist-packages (from importlib-metadata->transformers) (3.8.0)\n",
            "Requirement already satisfied: idna<3,>=2.5 in /usr/local/lib/python3.7/dist-packages (from requests->transformers) (2.10)\n",
            "Requirement already satisfied: chardet<4,>=3.0.2 in /usr/local/lib/python3.7/dist-packages (from requests->transformers) (3.0.4)\n",
            "Requirement already satisfied: certifi>=2017.4.17 in /usr/local/lib/python3.7/dist-packages (from requests->transformers) (2021.10.8)\n",
            "Requirement already satisfied: urllib3!=1.25.0,!=1.25.1,<1.26,>=1.21.1 in /usr/local/lib/python3.7/dist-packages (from requests->transformers) (1.24.3)\n",
            "Installing collected packages: pyyaml, tokenizers, huggingface-hub, transformers\n",
            "  Attempting uninstall: pyyaml\n",
            "    Found existing installation: PyYAML 3.13\n",
            "    Uninstalling PyYAML-3.13:\n",
            "      Successfully uninstalled PyYAML-3.13\n",
            "Successfully installed huggingface-hub-0.6.0 pyyaml-6.0 tokenizers-0.12.1 transformers-4.19.1\n"
          ]
        }
      ],
      "source": [
        "!pip install transformers"
      ]
    },
    {
      "cell_type": "code",
      "execution_count": 1,
      "metadata": {
        "colab": {
          "base_uri": "https://localhost:8080/"
        },
        "id": "55_w7Exe2Mj5",
        "outputId": "a7e9feb4-3995-47a5-8c9d-769b76dde3e4"
      },
      "outputs": [],
      "source": [
        "!python -u SimKGC-modified/main.py \\\n",
        "--model-dir \"ouput\" \\\n",
        "--pretrained-model bert-base-uncased \\\n",
        "--pooling mean \\\n",
        "--lr 1e-5 \\\n",
        "--use-link-graph \\\n",
        "--train-path \"SimKGC-modified/data/FB15k237/train.txt.json\" \\\n",
        "--valid-path \"SimKGC-modified/data/FB15k237/valid.txt.json\" \\\n",
        "--commonsense \"SimKGC-modified/data/FB15k237\" \\\n",
        "--task FB15k237 \\\n",
        "--batch-size 1024 \\\n",
        "--print-freq 20 \\\n",
        "--additive-margin 0.02 \\\n",
        "--use-amp \\\n",
        "--use-self-negative \\\n",
        "--finetune-t \\\n",
        "--pre-batch 2 \\\n",
        "--epochs 10 \\\n",
        "--workers 4 \\\n",
        "--max-to-keep 5 \"$@\""
      ]
    },
    {
      "cell_type": "code",
      "execution_count": null,
      "metadata": {
        "colab": {
          "base_uri": "https://localhost:8080/"
        },
        "id": "fsHAPIyscjw_",
        "outputId": "63b88a57-f312-4092-fe84-f161c90d0589"
      },
      "outputs": [
        {
          "name": "stdout",
          "output_type": "stream",
          "text": [
            "haha\n",
            "14541\n",
            "(3364, 0, 8619)\n",
            "14533\n",
            "(8077, 1, 6142)\n",
            "13356\n",
            "(3776, 2, 7385)\n",
            "14533\n",
            "(8874, 3, 9453)\n",
            "14533\n",
            "(12917, 4, 12433)\n",
            "14533\n",
            "(2567, 5, 8188)\n",
            "14533\n",
            "(11919, 6, 2062)\n",
            "14533\n",
            "(10698, 7, 12151)\n",
            "14533\n",
            "(11998, 8, 1416)\n",
            "14533\n",
            "(746, 9, 14485)\n",
            "14533\n",
            "(6778, 10, 8360)\n",
            "14533\n",
            "(6468, 11, 13665)\n",
            "14533\n",
            "(12959, 12, 5744)\n",
            "14533\n",
            "(7796, 13, 3031)\n",
            "14533\n",
            "(4990, 14, 4361)\n",
            "14533\n",
            "(14212, 8, 2904)\n",
            "14533\n",
            "(4994, 15, 13456)\n",
            "14533\n",
            "(4319, 6, 5429)\n",
            "14533\n",
            "(5747, 16, 4994)\n",
            "14533\n",
            "(9360, 8, 9698)\n",
            "14533\n",
            "(1414, 7, 7838)\n",
            "14533\n",
            "(2597, 17, 5311)\n",
            "14533\n",
            "(12217, 18, 9707)\n",
            "14533\n",
            "(436, 19, 2043)\n",
            "14533\n",
            "(6845, 20, 987)\n",
            "14533\n",
            "(11592, 21, 917)\n",
            "14533\n",
            "(3823, 20, 1798)\n",
            "14533\n",
            "(2735, 22, 9981)\n",
            "11340\n",
            "(3649, 13, 3031)\n",
            "14533\n",
            "(7456, 23, 9663)\n",
            "14533\n",
            "(3206, 24, 4994)\n",
            "14533\n",
            "(11236, 17, 8083)\n",
            "14533\n",
            "(7824, 25, 14037)\n",
            "14533\n",
            "(1783, 26, 7797)\n",
            "14533\n",
            "(1049, 27, 9847)\n",
            "14533\n",
            "(5956, 13, 2414)\n",
            "14533\n",
            "(2238, 7, 1202)\n",
            "14533\n",
            "(4460, 28, 4994)\n",
            "14533\n",
            "(2596, 6, 10206)\n",
            "14533\n",
            "(10631, 29, 1332)\n",
            "14533\n",
            "(4904, 30, 10309)\n",
            "14533\n",
            "(8126, 28, 4994)\n",
            "14533\n",
            "(7746, 8, 166)\n",
            "14533\n",
            "(217, 19, 8480)\n",
            "14533\n",
            "(13894, 31, 1810)\n",
            "14533\n",
            "(11734, 3, 5557)\n",
            "14533\n",
            "(11075, 32, 6463)\n",
            "14533\n",
            "(5422, 33, 6765)\n",
            "14533\n",
            "(10582, 29, 11173)\n",
            "14533\n",
            "(11266, 34, 6765)\n",
            "14533\n"
          ]
        }
      ],
      "source": [
        "!python -u drive/MyDrive/CocaKE/CAKE/codes/run_cake.py --do_train \\\n",
        "    --cuda \\\n",
        "    --do_valid \\\n",
        "    --do_test \\\n",
        "    --data_path \"drive/MyDrive/CocaKE/CAKE/data_concept/FB15k-237_concept\" \\\n",
        "    --model TransE \\\n",
        "    -n 128 -b 128 -d 128 \\\n",
        "    -g 0 -a 0 -adv \\\n",
        "    -lr 1e-4 --max_steps 10000 \\\n",
        "    -save save --test_batch_size 128 \\"
      ]
    },
    {
      "cell_type": "code",
      "execution_count": null,
      "metadata": {
        "id": "q-FE8xIpT_iS"
      },
      "outputs": [],
      "source": []
    }
  ],
  "metadata": {
    "accelerator": "GPU",
    "colab": {
      "collapsed_sections": [],
      "name": "CocaKE",
      "provenance": []
    },
    "interpreter": {
      "hash": "bc086f5737c5e3cb04b2292e5abfb71dc0b9d9dece194450ea2886ec2e1a90c5"
    },
    "kernelspec": {
      "display_name": "Python 3.9.12 ('finbert')",
      "language": "python",
      "name": "python3"
    },
    "language_info": {
      "codemirror_mode": {
        "name": "ipython",
        "version": 3
      },
      "file_extension": ".py",
      "mimetype": "text/x-python",
      "name": "python",
      "nbconvert_exporter": "python",
      "pygments_lexer": "ipython3",
      "version": "3.9.12"
    }
  },
  "nbformat": 4,
  "nbformat_minor": 0
}
